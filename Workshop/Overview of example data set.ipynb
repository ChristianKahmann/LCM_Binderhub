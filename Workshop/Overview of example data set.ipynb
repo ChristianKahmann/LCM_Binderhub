{
 "cells": [
  {
   "cell_type": "markdown",
   "metadata": {},
   "source": [
    "# Overview of the example data set\n",
    "* data basis is taken from [kaggle](https://www.kaggle.com/jrobischon/wikipedia-movie-plots)\n",
    "* this was then enriched with additional metadata from Wikipedia and subsequently filtered"
   ]
  },
  {
   "cell_type": "markdown",
   "metadata": {},
   "source": [
    "## Import example dataset"
   ]
  },
  {
   "cell_type": "code",
   "execution_count": 1,
   "metadata": {},
   "outputs": [
    {
     "name": "stderr",
     "output_type": "stream",
     "text": [
      "Parsed with column specification:\n",
      "cols(\n",
      "  `Release Year` = \u001b[32mcol_double()\u001b[39m,\n",
      "  Title = \u001b[31mcol_character()\u001b[39m,\n",
      "  `Origin/Ethnicity` = \u001b[31mcol_character()\u001b[39m,\n",
      "  Director = \u001b[31mcol_character()\u001b[39m,\n",
      "  Cast = \u001b[31mcol_character()\u001b[39m,\n",
      "  Genre = \u001b[31mcol_character()\u001b[39m,\n",
      "  `Wiki Page` = \u001b[31mcol_character()\u001b[39m,\n",
      "  Plot = \u001b[31mcol_character()\u001b[39m,\n",
      "  `Running time` = \u001b[32mcol_double()\u001b[39m,\n",
      "  Budget = \u001b[31mcol_character()\u001b[39m,\n",
      "  `Box office` = \u001b[31mcol_character()\u001b[39m\n",
      ")\n"
     ]
    }
   ],
   "source": [
    "movies <- readr::read_csv(\"data/movies.csv\")"
   ]
  },
  {
   "cell_type": "code",
   "execution_count": 2,
   "metadata": {},
   "outputs": [
    {
     "data": {
      "text/html": [
       "<ol class=list-inline>\n",
       "\t<li>5210</li>\n",
       "\t<li>11</li>\n",
       "</ol>\n"
      ],
      "text/latex": [
       "\\begin{enumerate*}\n",
       "\\item 5210\n",
       "\\item 11\n",
       "\\end{enumerate*}\n"
      ],
      "text/markdown": [
       "1. 5210\n",
       "2. 11\n",
       "\n",
       "\n"
      ],
      "text/plain": [
       "[1] 5210   11"
      ]
     },
     "metadata": {},
     "output_type": "display_data"
    }
   ],
   "source": [
    "# check dimensions of imported data\n",
    "dim(movies)"
   ]
  },
  {
   "cell_type": "code",
   "execution_count": 3,
   "metadata": {},
   "outputs": [
    {
     "data": {
      "text/html": [
       "<ol class=list-inline>\n",
       "\t<li>'Release Year'</li>\n",
       "\t<li>'Title'</li>\n",
       "\t<li>'Origin/Ethnicity'</li>\n",
       "\t<li>'Director'</li>\n",
       "\t<li>'Cast'</li>\n",
       "\t<li>'Genre'</li>\n",
       "\t<li>'Wiki Page'</li>\n",
       "\t<li>'Plot'</li>\n",
       "\t<li>'Running time'</li>\n",
       "\t<li>'Budget'</li>\n",
       "\t<li>'Box office'</li>\n",
       "</ol>\n"
      ],
      "text/latex": [
       "\\begin{enumerate*}\n",
       "\\item 'Release Year'\n",
       "\\item 'Title'\n",
       "\\item 'Origin/Ethnicity'\n",
       "\\item 'Director'\n",
       "\\item 'Cast'\n",
       "\\item 'Genre'\n",
       "\\item 'Wiki Page'\n",
       "\\item 'Plot'\n",
       "\\item 'Running time'\n",
       "\\item 'Budget'\n",
       "\\item 'Box office'\n",
       "\\end{enumerate*}\n"
      ],
      "text/markdown": [
       "1. 'Release Year'\n",
       "2. 'Title'\n",
       "3. 'Origin/Ethnicity'\n",
       "4. 'Director'\n",
       "5. 'Cast'\n",
       "6. 'Genre'\n",
       "7. 'Wiki Page'\n",
       "8. 'Plot'\n",
       "9. 'Running time'\n",
       "10. 'Budget'\n",
       "11. 'Box office'\n",
       "\n",
       "\n"
      ],
      "text/plain": [
       " [1] \"Release Year\"     \"Title\"            \"Origin/Ethnicity\" \"Director\"        \n",
       " [5] \"Cast\"             \"Genre\"            \"Wiki Page\"        \"Plot\"            \n",
       " [9] \"Running time\"     \"Budget\"           \"Box office\"      "
      ]
     },
     "metadata": {},
     "output_type": "display_data"
    },
    {
     "data": {
      "text/html": [
       "'Brad Pitt,Edward Norton,Helena Bonham Carter'"
      ],
      "text/latex": [
       "'Brad Pitt,Edward Norton,Helena Bonham Carter'"
      ],
      "text/markdown": [
       "'Brad Pitt,Edward Norton,Helena Bonham Carter'"
      ],
      "text/plain": [
       "[1] \"Brad Pitt,Edward Norton,Helena Bonham Carter\""
      ]
     },
     "metadata": {},
     "output_type": "display_data"
    },
    {
     "data": {
      "text/html": [
       "139"
      ],
      "text/latex": [
       "139"
      ],
      "text/markdown": [
       "139"
      ],
      "text/plain": [
       "[1] 139"
      ]
     },
     "metadata": {},
     "output_type": "display_data"
    },
    {
     "data": {
      "text/html": [
       "'The unnamed Narrator is a traveling automobile recall specialist who suffers from insomnia. When he is unsuccessful at receiving medical assistance for it, the admonishing doctor suggests he realize his relatively small amount of suffering by visiting a support group for testicular cancer victims. The group assumes that he, too, is affected like they are, and he spontaneously weeps into the nurturing arms of another man, finding a freedom from the catharsis that relieves his insomnia. He decides to participate in support groups of various kinds, always allowing the groups to assume that he suffers what they do. However, he begins to notice another impostor, Marla Singer, whose presence reminds him that he is attending these groups dishonestly, and this disturbs his bliss. The two negotiate to avoid their attending the same groups, but, before going their separate ways, Marla gives him her phone number.\\r\\nOn a flight home from a business trip, the Narrator meets Tyler Durden, a soap salesman with whom he begins to converse after noticing the two share the same kind of briefcase. After the flight, the Narrator returns home to find that his apartment has been destroyed by an explosion. With no one else to contact, he calls Tyler, and they meet at a bar. After a conversation about consumerism, outside the bar, Tyler chastises the Narrator for his timidity about needing a place to stay. Tyler requests that the Narrator hit him, which leads the two to engage in a fistfight. The Narrator moves into Tyler\\'s home, a large dilapidated house in an industrial area of their city. They have further fights outside the bar on subsequent nights, and these fights attract growing crowds of men. The fighting eventually moves to the bar\\'s basement where the men form a club (\"Fight Club\") which routinely meets only to provide an opportunity for the men to fight recreationally.\\r\\nMarla overdoses on pills and telephones the Narrator for help; he eventually ignores her, leaving his phone receiver without disconnecting. Tyler notices the phone soon after, talks to her and goes to her apartment to save her. Tyler and Marla become sexually involved. He warns the Narrator never to talk to Marla about him. More fight clubs form across the country and, under Tyler\\'s leadership (and without the Narrator\\'s knowledge), they become an anti-materialist and anti-corporate organization, Project Mayhem, with many of the former local Fight Club members moving into the dilapidated house and improving it.\\r\\nThe Narrator complains to Tyler about Tyler excluding him from the newer manifestation of the Fight Club organization Project Mayhem. Soon after, Tyler leaves the house without notice. When a member of Project Mayhem is killed by the police during a botched sabotage operation, the Narrator tries to shut down the project. Seeking Tyler, he follows evidence of Tyler\\'s national travels. In one city, a Project Mayhem member greets the Narrator as Tyler Durden. The Narrator calls Marla from his hotel room and discovers that Marla also believes him to be Tyler. Tyler suddenly appears in his hotel room, and reveals that they are dissociated personalities in the same body. When the Narrator has believed himself to be asleep, Tyler has been controlling his body and traveling to different locations.\\r\\nThe Narrator blacks out after the conversation, and when he awakes, he uncovers Tyler\\'s plans to erase debt by destroying buildings that contain credit card companies\\' records. The Narrator tries to warn the police, but he finds that these officers are members of the Project. He attempts to disarm the explosives in a building, but Tyler subdues him and moves him to the uppermost floor. Held at gunpoint by Tyler, the Narrator realizes that, in sharing the same body with Tyler, he himself is actually in control holding \"Tyler\\'s\" gun. The Narrator fires it into his own mouth, shooting through the cheek without killing himself. Tyler collapses with an exit wound to the back of his head, and the Narrator stops mentally projecting him. Afterward, Project Mayhem members bring a kidnapped Marla to him, believing him to be Tyler, and leave them alone. Holding hands, the Narrator and Marla watch as the explosives detonate, collapsing many buildings around them.'"
      ],
      "text/latex": [
       "'The unnamed Narrator is a traveling automobile recall specialist who suffers from insomnia. When he is unsuccessful at receiving medical assistance for it, the admonishing doctor suggests he realize his relatively small amount of suffering by visiting a support group for testicular cancer victims. The group assumes that he, too, is affected like they are, and he spontaneously weeps into the nurturing arms of another man, finding a freedom from the catharsis that relieves his insomnia. He decides to participate in support groups of various kinds, always allowing the groups to assume that he suffers what they do. However, he begins to notice another impostor, Marla Singer, whose presence reminds him that he is attending these groups dishonestly, and this disturbs his bliss. The two negotiate to avoid their attending the same groups, but, before going their separate ways, Marla gives him her phone number.\\textbackslash{}r\\textbackslash{}nOn a flight home from a business trip, the Narrator meets Tyler Durden, a soap salesman with whom he begins to converse after noticing the two share the same kind of briefcase. After the flight, the Narrator returns home to find that his apartment has been destroyed by an explosion. With no one else to contact, he calls Tyler, and they meet at a bar. After a conversation about consumerism, outside the bar, Tyler chastises the Narrator for his timidity about needing a place to stay. Tyler requests that the Narrator hit him, which leads the two to engage in a fistfight. The Narrator moves into Tyler\\textbackslash{}'s home, a large dilapidated house in an industrial area of their city. They have further fights outside the bar on subsequent nights, and these fights attract growing crowds of men. The fighting eventually moves to the bar\\textbackslash{}'s basement where the men form a club (\"Fight Club\") which routinely meets only to provide an opportunity for the men to fight recreationally.\\textbackslash{}r\\textbackslash{}nMarla overdoses on pills and telephones the Narrator for help; he eventually ignores her, leaving his phone receiver without disconnecting. Tyler notices the phone soon after, talks to her and goes to her apartment to save her. Tyler and Marla become sexually involved. He warns the Narrator never to talk to Marla about him. More fight clubs form across the country and, under Tyler\\textbackslash{}'s leadership (and without the Narrator\\textbackslash{}'s knowledge), they become an anti-materialist and anti-corporate organization, Project Mayhem, with many of the former local Fight Club members moving into the dilapidated house and improving it.\\textbackslash{}r\\textbackslash{}nThe Narrator complains to Tyler about Tyler excluding him from the newer manifestation of the Fight Club organization Project Mayhem. Soon after, Tyler leaves the house without notice. When a member of Project Mayhem is killed by the police during a botched sabotage operation, the Narrator tries to shut down the project. Seeking Tyler, he follows evidence of Tyler\\textbackslash{}'s national travels. In one city, a Project Mayhem member greets the Narrator as Tyler Durden. The Narrator calls Marla from his hotel room and discovers that Marla also believes him to be Tyler. Tyler suddenly appears in his hotel room, and reveals that they are dissociated personalities in the same body. When the Narrator has believed himself to be asleep, Tyler has been controlling his body and traveling to different locations.\\textbackslash{}r\\textbackslash{}nThe Narrator blacks out after the conversation, and when he awakes, he uncovers Tyler\\textbackslash{}'s plans to erase debt by destroying buildings that contain credit card companies\\textbackslash{}' records. The Narrator tries to warn the police, but he finds that these officers are members of the Project. He attempts to disarm the explosives in a building, but Tyler subdues him and moves him to the uppermost floor. Held at gunpoint by Tyler, the Narrator realizes that, in sharing the same body with Tyler, he himself is actually in control holding \"Tyler\\textbackslash{}'s\" gun. The Narrator fires it into his own mouth, shooting through the cheek without killing himself. Tyler collapses with an exit wound to the back of his head, and the Narrator stops mentally projecting him. Afterward, Project Mayhem members bring a kidnapped Marla to him, believing him to be Tyler, and leave them alone. Holding hands, the Narrator and Marla watch as the explosives detonate, collapsing many buildings around them.'"
      ],
      "text/markdown": [
       "'The unnamed Narrator is a traveling automobile recall specialist who suffers from insomnia. When he is unsuccessful at receiving medical assistance for it, the admonishing doctor suggests he realize his relatively small amount of suffering by visiting a support group for testicular cancer victims. The group assumes that he, too, is affected like they are, and he spontaneously weeps into the nurturing arms of another man, finding a freedom from the catharsis that relieves his insomnia. He decides to participate in support groups of various kinds, always allowing the groups to assume that he suffers what they do. However, he begins to notice another impostor, Marla Singer, whose presence reminds him that he is attending these groups dishonestly, and this disturbs his bliss. The two negotiate to avoid their attending the same groups, but, before going their separate ways, Marla gives him her phone number.\\r\\nOn a flight home from a business trip, the Narrator meets Tyler Durden, a soap salesman with whom he begins to converse after noticing the two share the same kind of briefcase. After the flight, the Narrator returns home to find that his apartment has been destroyed by an explosion. With no one else to contact, he calls Tyler, and they meet at a bar. After a conversation about consumerism, outside the bar, Tyler chastises the Narrator for his timidity about needing a place to stay. Tyler requests that the Narrator hit him, which leads the two to engage in a fistfight. The Narrator moves into Tyler\\'s home, a large dilapidated house in an industrial area of their city. They have further fights outside the bar on subsequent nights, and these fights attract growing crowds of men. The fighting eventually moves to the bar\\'s basement where the men form a club (\"Fight Club\") which routinely meets only to provide an opportunity for the men to fight recreationally.\\r\\nMarla overdoses on pills and telephones the Narrator for help; he eventually ignores her, leaving his phone receiver without disconnecting. Tyler notices the phone soon after, talks to her and goes to her apartment to save her. Tyler and Marla become sexually involved. He warns the Narrator never to talk to Marla about him. More fight clubs form across the country and, under Tyler\\'s leadership (and without the Narrator\\'s knowledge), they become an anti-materialist and anti-corporate organization, Project Mayhem, with many of the former local Fight Club members moving into the dilapidated house and improving it.\\r\\nThe Narrator complains to Tyler about Tyler excluding him from the newer manifestation of the Fight Club organization Project Mayhem. Soon after, Tyler leaves the house without notice. When a member of Project Mayhem is killed by the police during a botched sabotage operation, the Narrator tries to shut down the project. Seeking Tyler, he follows evidence of Tyler\\'s national travels. In one city, a Project Mayhem member greets the Narrator as Tyler Durden. The Narrator calls Marla from his hotel room and discovers that Marla also believes him to be Tyler. Tyler suddenly appears in his hotel room, and reveals that they are dissociated personalities in the same body. When the Narrator has believed himself to be asleep, Tyler has been controlling his body and traveling to different locations.\\r\\nThe Narrator blacks out after the conversation, and when he awakes, he uncovers Tyler\\'s plans to erase debt by destroying buildings that contain credit card companies\\' records. The Narrator tries to warn the police, but he finds that these officers are members of the Project. He attempts to disarm the explosives in a building, but Tyler subdues him and moves him to the uppermost floor. Held at gunpoint by Tyler, the Narrator realizes that, in sharing the same body with Tyler, he himself is actually in control holding \"Tyler\\'s\" gun. The Narrator fires it into his own mouth, shooting through the cheek without killing himself. Tyler collapses with an exit wound to the back of his head, and the Narrator stops mentally projecting him. Afterward, Project Mayhem members bring a kidnapped Marla to him, believing him to be Tyler, and leave them alone. Holding hands, the Narrator and Marla watch as the explosives detonate, collapsing many buildings around them.'"
      ],
      "text/plain": [
       "[1] \"The unnamed Narrator is a traveling automobile recall specialist who suffers from insomnia. When he is unsuccessful at receiving medical assistance for it, the admonishing doctor suggests he realize his relatively small amount of suffering by visiting a support group for testicular cancer victims. The group assumes that he, too, is affected like they are, and he spontaneously weeps into the nurturing arms of another man, finding a freedom from the catharsis that relieves his insomnia. He decides to participate in support groups of various kinds, always allowing the groups to assume that he suffers what they do. However, he begins to notice another impostor, Marla Singer, whose presence reminds him that he is attending these groups dishonestly, and this disturbs his bliss. The two negotiate to avoid their attending the same groups, but, before going their separate ways, Marla gives him her phone number.\\r\\nOn a flight home from a business trip, the Narrator meets Tyler Durden, a soap salesman with whom he begins to converse after noticing the two share the same kind of briefcase. After the flight, the Narrator returns home to find that his apartment has been destroyed by an explosion. With no one else to contact, he calls Tyler, and they meet at a bar. After a conversation about consumerism, outside the bar, Tyler chastises the Narrator for his timidity about needing a place to stay. Tyler requests that the Narrator hit him, which leads the two to engage in a fistfight. The Narrator moves into Tyler's home, a large dilapidated house in an industrial area of their city. They have further fights outside the bar on subsequent nights, and these fights attract growing crowds of men. The fighting eventually moves to the bar's basement where the men form a club (\\\"Fight Club\\\") which routinely meets only to provide an opportunity for the men to fight recreationally.\\r\\nMarla overdoses on pills and telephones the Narrator for help; he eventually ignores her, leaving his phone receiver without disconnecting. Tyler notices the phone soon after, talks to her and goes to her apartment to save her. Tyler and Marla become sexually involved. He warns the Narrator never to talk to Marla about him. More fight clubs form across the country and, under Tyler's leadership (and without the Narrator's knowledge), they become an anti-materialist and anti-corporate organization, Project Mayhem, with many of the former local Fight Club members moving into the dilapidated house and improving it.\\r\\nThe Narrator complains to Tyler about Tyler excluding him from the newer manifestation of the Fight Club organization Project Mayhem. Soon after, Tyler leaves the house without notice. When a member of Project Mayhem is killed by the police during a botched sabotage operation, the Narrator tries to shut down the project. Seeking Tyler, he follows evidence of Tyler's national travels. In one city, a Project Mayhem member greets the Narrator as Tyler Durden. The Narrator calls Marla from his hotel room and discovers that Marla also believes him to be Tyler. Tyler suddenly appears in his hotel room, and reveals that they are dissociated personalities in the same body. When the Narrator has believed himself to be asleep, Tyler has been controlling his body and traveling to different locations.\\r\\nThe Narrator blacks out after the conversation, and when he awakes, he uncovers Tyler's plans to erase debt by destroying buildings that contain credit card companies' records. The Narrator tries to warn the police, but he finds that these officers are members of the Project. He attempts to disarm the explosives in a building, but Tyler subdues him and moves him to the uppermost floor. Held at gunpoint by Tyler, the Narrator realizes that, in sharing the same body with Tyler, he himself is actually in control holding \\\"Tyler's\\\" gun. The Narrator fires it into his own mouth, shooting through the cheek without killing himself. Tyler collapses with an exit wound to the back of his head, and the Narrator stops mentally projecting him. Afterward, Project Mayhem members bring a kidnapped Marla to him, believing him to be Tyler, and leave them alone. Holding hands, the Narrator and Marla watch as the explosives detonate, collapsing many buildings around them.\""
      ]
     },
     "metadata": {},
     "output_type": "display_data"
    }
   ],
   "source": [
    "# check which information is present\n",
    "colnames(movies)\n",
    "\n",
    "# get informations for Fight Club\n",
    "fightclub_row<-which(movies$Title == \"Fight Club\")\n",
    "\n",
    "# get Cast of Fight Club\n",
    "movies$Cast[fightclub_row]\n",
    "# get Running Time for Fight Club\n",
    "movies$`Running time`[fightclub_row]\n",
    "# get Plot for Fight Club\n",
    "movies$Plot[fightclub_row]"
   ]
  },
  {
   "cell_type": "code",
   "execution_count": 4,
   "metadata": {},
   "outputs": [
    {
     "data": {
      "text/html": [
       "<table>\n",
       "<caption>A tibble: 37 × 2</caption>\n",
       "<thead>\n",
       "\t<tr><th scope=col>Release Year</th><th scope=col>Title</th></tr>\n",
       "\t<tr><th scope=col>&lt;dbl&gt;</th><th scope=col>&lt;chr&gt;</th></tr>\n",
       "</thead>\n",
       "<tbody>\n",
       "\t<tr><td>1984</td><td>Bachelor Party                     </td></tr>\n",
       "\t<tr><td>1984</td><td>Splash                             </td></tr>\n",
       "\t<tr><td>1985</td><td>The Man with One Red Shoe          </td></tr>\n",
       "\t<tr><td>1986</td><td>Every Time We Say Goodbye          </td></tr>\n",
       "\t<tr><td>1987</td><td>Dragnet                            </td></tr>\n",
       "\t<tr><td>1988</td><td>Big                                </td></tr>\n",
       "\t<tr><td>1989</td><td>The 'Burbs                         </td></tr>\n",
       "\t<tr><td>1990</td><td>Joe Versus the Volcano             </td></tr>\n",
       "\t<tr><td>1990</td><td>The Bonfire of the Vanities        </td></tr>\n",
       "\t<tr><td>1992</td><td>A League of Their Own              </td></tr>\n",
       "\t<tr><td>1993</td><td>Philadelphia                       </td></tr>\n",
       "\t<tr><td>1993</td><td>Sleepless in Seattle               </td></tr>\n",
       "\t<tr><td>1994</td><td>Forrest Gump                       </td></tr>\n",
       "\t<tr><td>1995</td><td>Apollo 13                          </td></tr>\n",
       "\t<tr><td>1995</td><td>Toy Story                          </td></tr>\n",
       "\t<tr><td>1996</td><td>That Thing You Do!                 </td></tr>\n",
       "\t<tr><td>1998</td><td>Saving Private Ryan                </td></tr>\n",
       "\t<tr><td>1998</td><td>You've Got Mail                    </td></tr>\n",
       "\t<tr><td>1999</td><td>The Green Mile                     </td></tr>\n",
       "\t<tr><td>1999</td><td>Toy Story 2                        </td></tr>\n",
       "\t<tr><td>2000</td><td>Cast Away                          </td></tr>\n",
       "\t<tr><td>2002</td><td>Catch Me If You Can                </td></tr>\n",
       "\t<tr><td>2002</td><td>Road to Perdition                  </td></tr>\n",
       "\t<tr><td>2004</td><td>The Ladykillers                    </td></tr>\n",
       "\t<tr><td>2004</td><td>The Polar Express                  </td></tr>\n",
       "\t<tr><td>2004</td><td>The Terminal                       </td></tr>\n",
       "\t<tr><td>2006</td><td>The Da Vinci Code                  </td></tr>\n",
       "\t<tr><td>2007</td><td>Charlie Wilson's War               </td></tr>\n",
       "\t<tr><td>2009</td><td><span style=white-space:pre-wrap>Angels &amp; Demons                    </span></td></tr>\n",
       "\t<tr><td>2010</td><td>Toy Story 3                        </td></tr>\n",
       "\t<tr><td>2011</td><td>Extremely Loud and Incredibly Close</td></tr>\n",
       "\t<tr><td>2012</td><td>Cloud Atlas                        </td></tr>\n",
       "\t<tr><td>2013</td><td>Captain Phillips                   </td></tr>\n",
       "\t<tr><td>2013</td><td>Saving Mr. Banks                   </td></tr>\n",
       "\t<tr><td>2016</td><td>Sully                              </td></tr>\n",
       "\t<tr><td>2017</td><td>The Circle                         </td></tr>\n",
       "\t<tr><td>2017</td><td>The Post                           </td></tr>\n",
       "</tbody>\n",
       "</table>\n"
      ],
      "text/latex": [
       "A tibble: 37 × 2\n",
       "\\begin{tabular}{ll}\n",
       " Release Year & Title\\\\\n",
       " <dbl> & <chr>\\\\\n",
       "\\hline\n",
       "\t 1984 & Bachelor Party                     \\\\\n",
       "\t 1984 & Splash                             \\\\\n",
       "\t 1985 & The Man with One Red Shoe          \\\\\n",
       "\t 1986 & Every Time We Say Goodbye          \\\\\n",
       "\t 1987 & Dragnet                            \\\\\n",
       "\t 1988 & Big                                \\\\\n",
       "\t 1989 & The 'Burbs                         \\\\\n",
       "\t 1990 & Joe Versus the Volcano             \\\\\n",
       "\t 1990 & The Bonfire of the Vanities        \\\\\n",
       "\t 1992 & A League of Their Own              \\\\\n",
       "\t 1993 & Philadelphia                       \\\\\n",
       "\t 1993 & Sleepless in Seattle               \\\\\n",
       "\t 1994 & Forrest Gump                       \\\\\n",
       "\t 1995 & Apollo 13                          \\\\\n",
       "\t 1995 & Toy Story                          \\\\\n",
       "\t 1996 & That Thing You Do!                 \\\\\n",
       "\t 1998 & Saving Private Ryan                \\\\\n",
       "\t 1998 & You've Got Mail                    \\\\\n",
       "\t 1999 & The Green Mile                     \\\\\n",
       "\t 1999 & Toy Story 2                        \\\\\n",
       "\t 2000 & Cast Away                          \\\\\n",
       "\t 2002 & Catch Me If You Can                \\\\\n",
       "\t 2002 & Road to Perdition                  \\\\\n",
       "\t 2004 & The Ladykillers                    \\\\\n",
       "\t 2004 & The Polar Express                  \\\\\n",
       "\t 2004 & The Terminal                       \\\\\n",
       "\t 2006 & The Da Vinci Code                  \\\\\n",
       "\t 2007 & Charlie Wilson's War               \\\\\n",
       "\t 2009 & Angels \\& Demons                    \\\\\n",
       "\t 2010 & Toy Story 3                        \\\\\n",
       "\t 2011 & Extremely Loud and Incredibly Close\\\\\n",
       "\t 2012 & Cloud Atlas                        \\\\\n",
       "\t 2013 & Captain Phillips                   \\\\\n",
       "\t 2013 & Saving Mr. Banks                   \\\\\n",
       "\t 2016 & Sully                              \\\\\n",
       "\t 2017 & The Circle                         \\\\\n",
       "\t 2017 & The Post                           \\\\\n",
       "\\end{tabular}\n"
      ],
      "text/markdown": [
       "\n",
       "A tibble: 37 × 2\n",
       "\n",
       "| Release Year &lt;dbl&gt; | Title &lt;chr&gt; |\n",
       "|---|---|\n",
       "| 1984 | Bachelor Party                      |\n",
       "| 1984 | Splash                              |\n",
       "| 1985 | The Man with One Red Shoe           |\n",
       "| 1986 | Every Time We Say Goodbye           |\n",
       "| 1987 | Dragnet                             |\n",
       "| 1988 | Big                                 |\n",
       "| 1989 | The 'Burbs                          |\n",
       "| 1990 | Joe Versus the Volcano              |\n",
       "| 1990 | The Bonfire of the Vanities         |\n",
       "| 1992 | A League of Their Own               |\n",
       "| 1993 | Philadelphia                        |\n",
       "| 1993 | Sleepless in Seattle                |\n",
       "| 1994 | Forrest Gump                        |\n",
       "| 1995 | Apollo 13                           |\n",
       "| 1995 | Toy Story                           |\n",
       "| 1996 | That Thing You Do!                  |\n",
       "| 1998 | Saving Private Ryan                 |\n",
       "| 1998 | You've Got Mail                     |\n",
       "| 1999 | The Green Mile                      |\n",
       "| 1999 | Toy Story 2                         |\n",
       "| 2000 | Cast Away                           |\n",
       "| 2002 | Catch Me If You Can                 |\n",
       "| 2002 | Road to Perdition                   |\n",
       "| 2004 | The Ladykillers                     |\n",
       "| 2004 | The Polar Express                   |\n",
       "| 2004 | The Terminal                        |\n",
       "| 2006 | The Da Vinci Code                   |\n",
       "| 2007 | Charlie Wilson's War                |\n",
       "| 2009 | Angels &amp; Demons                     |\n",
       "| 2010 | Toy Story 3                         |\n",
       "| 2011 | Extremely Loud and Incredibly Close |\n",
       "| 2012 | Cloud Atlas                         |\n",
       "| 2013 | Captain Phillips                    |\n",
       "| 2013 | Saving Mr. Banks                    |\n",
       "| 2016 | Sully                               |\n",
       "| 2017 | The Circle                          |\n",
       "| 2017 | The Post                            |\n",
       "\n"
      ],
      "text/plain": [
       "   Release Year Title                              \n",
       "1  1984         Bachelor Party                     \n",
       "2  1984         Splash                             \n",
       "3  1985         The Man with One Red Shoe          \n",
       "4  1986         Every Time We Say Goodbye          \n",
       "5  1987         Dragnet                            \n",
       "6  1988         Big                                \n",
       "7  1989         The 'Burbs                         \n",
       "8  1990         Joe Versus the Volcano             \n",
       "9  1990         The Bonfire of the Vanities        \n",
       "10 1992         A League of Their Own              \n",
       "11 1993         Philadelphia                       \n",
       "12 1993         Sleepless in Seattle               \n",
       "13 1994         Forrest Gump                       \n",
       "14 1995         Apollo 13                          \n",
       "15 1995         Toy Story                          \n",
       "16 1996         That Thing You Do!                 \n",
       "17 1998         Saving Private Ryan                \n",
       "18 1998         You've Got Mail                    \n",
       "19 1999         The Green Mile                     \n",
       "20 1999         Toy Story 2                        \n",
       "21 2000         Cast Away                          \n",
       "22 2002         Catch Me If You Can                \n",
       "23 2002         Road to Perdition                  \n",
       "24 2004         The Ladykillers                    \n",
       "25 2004         The Polar Express                  \n",
       "26 2004         The Terminal                       \n",
       "27 2006         The Da Vinci Code                  \n",
       "28 2007         Charlie Wilson's War               \n",
       "29 2009         Angels & Demons                    \n",
       "30 2010         Toy Story 3                        \n",
       "31 2011         Extremely Loud and Incredibly Close\n",
       "32 2012         Cloud Atlas                        \n",
       "33 2013         Captain Phillips                   \n",
       "34 2013         Saving Mr. Banks                   \n",
       "35 2016         Sully                              \n",
       "36 2017         The Circle                         \n",
       "37 2017         The Post                           "
      ]
     },
     "metadata": {},
     "output_type": "display_data"
    }
   ],
   "source": [
    "# in which movies has tom hanks starred\n",
    "tom_hanks_movies <- movies[which(grepl(x = movies$Cast, pattern = \"Tom Hanks\")),c(\"Release Year\",\"Title\")]\n",
    "tom_hanks_movies[order(tom_hanks_movies$'Release Year'),]\n",
    "\n"
   ]
  },
  {
   "cell_type": "markdown",
   "metadata": {},
   "source": [
    "## create a movie times actor matrix\n",
    "Problem: movies$Cast usually has more than one value seperated by \",\". We can split it with function str_split() from stringr package."
   ]
  },
  {
   "cell_type": "code",
   "execution_count": 5,
   "metadata": {},
   "outputs": [
    {
     "data": {
      "text/html": [
       "'Matt Damon,Robin Williams,Ben Affleck,Minnie Driver,Stellan Skarsgård'"
      ],
      "text/latex": [
       "'Matt Damon,Robin Williams,Ben Affleck,Minnie Driver,Stellan Skarsgård'"
      ],
      "text/markdown": [
       "'Matt Damon,Robin Williams,Ben Affleck,Minnie Driver,Stellan Skarsgård'"
      ],
      "text/plain": [
       "[1] \"Matt Damon,Robin Williams,Ben Affleck,Minnie Driver,Stellan Skarsgård\""
      ]
     },
     "metadata": {},
     "output_type": "display_data"
    },
    {
     "data": {
      "text/html": [
       "<ol>\n",
       "\t<li><ol class=list-inline>\n",
       "\t<li>'Matt Damon'</li>\n",
       "\t<li>'Robin Williams'</li>\n",
       "\t<li>'Ben Affleck'</li>\n",
       "\t<li>'Minnie Driver'</li>\n",
       "\t<li>'Stellan Skarsgård'</li>\n",
       "</ol>\n",
       "</li>\n",
       "</ol>\n"
      ],
      "text/latex": [
       "\\begin{enumerate}\n",
       "\\item \\begin{enumerate*}\n",
       "\\item 'Matt Damon'\n",
       "\\item 'Robin Williams'\n",
       "\\item 'Ben Affleck'\n",
       "\\item 'Minnie Driver'\n",
       "\\item 'Stellan Skarsgård'\n",
       "\\end{enumerate*}\n",
       "\n",
       "\\end{enumerate}\n"
      ],
      "text/markdown": [
       "1. 1. 'Matt Damon'\n",
       "2. 'Robin Williams'\n",
       "3. 'Ben Affleck'\n",
       "4. 'Minnie Driver'\n",
       "5. 'Stellan Skarsgård'\n",
       "\n",
       "\n",
       "\n",
       "\n",
       "\n"
      ],
      "text/plain": [
       "[[1]]\n",
       "[1] \"Matt Damon\"        \"Robin Williams\"    \"Ben Affleck\"      \n",
       "[4] \"Minnie Driver\"     \"Stellan Skarsgård\"\n"
      ]
     },
     "metadata": {},
     "output_type": "display_data"
    }
   ],
   "source": [
    "# how to split several values in one cell\n",
    "library(stringr)\n",
    "# Cast of 'Good WIll Hunting'\n",
    "movies$Cast[1613]\n",
    "str_split(string = movies$Cast[1613],pattern = \",\")"
   ]
  },
  {
   "cell_type": "code",
   "execution_count": 6,
   "metadata": {},
   "outputs": [
    {
     "data": {
      "text/html": [
       "'list'"
      ],
      "text/latex": [
       "'list'"
      ],
      "text/markdown": [
       "'list'"
      ],
      "text/plain": [
       "[1] \"list\""
      ]
     },
     "metadata": {},
     "output_type": "display_data"
    },
    {
     "data": {
      "text/html": [
       "<ol class=list-inline>\n",
       "\t<li>'Matt Damon'</li>\n",
       "\t<li>'Robin Williams'</li>\n",
       "\t<li>'Ben Affleck'</li>\n",
       "\t<li>'Minnie Driver'</li>\n",
       "\t<li>'Stellan Skarsgård'</li>\n",
       "</ol>\n"
      ],
      "text/latex": [
       "\\begin{enumerate*}\n",
       "\\item 'Matt Damon'\n",
       "\\item 'Robin Williams'\n",
       "\\item 'Ben Affleck'\n",
       "\\item 'Minnie Driver'\n",
       "\\item 'Stellan Skarsgård'\n",
       "\\end{enumerate*}\n"
      ],
      "text/markdown": [
       "1. 'Matt Damon'\n",
       "2. 'Robin Williams'\n",
       "3. 'Ben Affleck'\n",
       "4. 'Minnie Driver'\n",
       "5. 'Stellan Skarsgård'\n",
       "\n",
       "\n"
      ],
      "text/plain": [
       "[1] \"Matt Damon\"        \"Robin Williams\"    \"Ben Affleck\"      \n",
       "[4] \"Minnie Driver\"     \"Stellan Skarsgård\""
      ]
     },
     "metadata": {},
     "output_type": "display_data"
    }
   ],
   "source": [
    "# apply this for all movies\n",
    "actor_list<-str_split(string = movies$Cast, pattern = \",\",simplify = F)\n",
    "class(actor_list)\n",
    "# use list elements with [[id]]\n",
    "actor_list[[1613]]"
   ]
  },
  {
   "cell_type": "code",
   "execution_count": 7,
   "metadata": {},
   "outputs": [
    {
     "data": {
      "text/html": [
       "<table>\n",
       "<caption>A data.frame: 1 × 5</caption>\n",
       "<thead>\n",
       "\t<tr><th scope=col>Matt Damon</th><th scope=col>Robin Williams</th><th scope=col>Ben Affleck</th><th scope=col>Minnie Driver</th><th scope=col>Stellan Skarsgård</th></tr>\n",
       "\t<tr><th scope=col>&lt;dbl&gt;</th><th scope=col>&lt;dbl&gt;</th><th scope=col>&lt;dbl&gt;</th><th scope=col>&lt;dbl&gt;</th><th scope=col>&lt;dbl&gt;</th></tr>\n",
       "</thead>\n",
       "<tbody>\n",
       "\t<tr><td>1</td><td>1</td><td>1</td><td>1</td><td>1</td></tr>\n",
       "</tbody>\n",
       "</table>\n"
      ],
      "text/latex": [
       "A data.frame: 1 × 5\n",
       "\\begin{tabular}{lllll}\n",
       " Matt Damon & Robin Williams & Ben Affleck & Minnie Driver & Stellan Skarsgård\\\\\n",
       " <dbl> & <dbl> & <dbl> & <dbl> & <dbl>\\\\\n",
       "\\hline\n",
       "\t 1 & 1 & 1 & 1 & 1\\\\\n",
       "\\end{tabular}\n"
      ],
      "text/markdown": [
       "\n",
       "A data.frame: 1 × 5\n",
       "\n",
       "| Matt Damon &lt;dbl&gt; | Robin Williams &lt;dbl&gt; | Ben Affleck &lt;dbl&gt; | Minnie Driver &lt;dbl&gt; | Stellan Skarsgård &lt;dbl&gt; |\n",
       "|---|---|---|---|---|\n",
       "| 1 | 1 | 1 | 1 | 1 |\n",
       "\n"
      ],
      "text/plain": [
       "  Matt Damon Robin Williams Ben Affleck Minnie Driver Stellan Skarsgård\n",
       "1 1          1              1           1             1                "
      ]
     },
     "metadata": {},
     "output_type": "display_data"
    }
   ],
   "source": [
    "# cast every list element into a data.frame containing a column for every actor in the certain movie\n",
    "for(i in 1:length(actor_list)){\n",
    "  data<-data.frame(t(rep(1,length(actor_list[[i]]))))\n",
    "  colnames(data)<-actor_list[[i]]\n",
    "  actor_list[[i]]<-data\n",
    "}\n",
    "actor_list[[1613]]"
   ]
  },
  {
   "cell_type": "code",
   "execution_count": 8,
   "metadata": {},
   "outputs": [
    {
     "data": {
      "text/html": [
       "<ol class=list-inline>\n",
       "\t<li>5210</li>\n",
       "\t<li>6911</li>\n",
       "</ol>\n"
      ],
      "text/latex": [
       "\\begin{enumerate*}\n",
       "\\item 5210\n",
       "\\item 6911\n",
       "\\end{enumerate*}\n"
      ],
      "text/markdown": [
       "1. 5210\n",
       "2. 6911\n",
       "\n",
       "\n"
      ],
      "text/plain": [
       "[1] 5210 6911"
      ]
     },
     "metadata": {},
     "output_type": "display_data"
    }
   ],
   "source": [
    "# bind all data.frame to a big data.frame containing all movies and all actors with value 1 in cell [i,j],\n",
    "# if in movie i actor j appears\n",
    "movie_actor_matrix<-data.table::rbindlist(l = actor_list, fill = TRUE)\n",
    "# repalce NA's with 0's\n",
    "movie_actor_matrix[which(is.na(movie_actor_matrix),arr.ind = TRUE)] <- 0\n",
    "# sort matrix by actor appearances\n",
    "col_order<-as.numeric(order(colSums(movie_actor_matrix),decreasing=TRUE))\n",
    "movie_actor_matrix<-as.matrix(movie_actor_matrix)[,col_order]\n",
    "# set rownames of matrix to movie titles\n",
    "rownames(movie_actor_matrix)<-movies$Title\n",
    "dim(movie_actor_matrix)"
   ]
  },
  {
   "cell_type": "code",
   "execution_count": 9,
   "metadata": {},
   "outputs": [
    {
     "data": {
      "text/html": [
       "<dl class=dl-horizontal>\n",
       "\t<dt>Robert De Niro</dt>\n",
       "\t\t<dd>59</dd>\n",
       "\t<dt>Samuel L. Jackson</dt>\n",
       "\t\t<dd>52</dd>\n",
       "\t<dt>Bruce Willis</dt>\n",
       "\t\t<dd>51</dd>\n",
       "\t<dt>Nicolas Cage</dt>\n",
       "\t\t<dd>51</dd>\n",
       "\t<dt>Morgan Freeman</dt>\n",
       "\t\t<dd>49</dd>\n",
       "\t<dt>Meryl Streep</dt>\n",
       "\t\t<dd>45</dd>\n",
       "\t<dt>Jeff Bridges</dt>\n",
       "\t\t<dd>42</dd>\n",
       "\t<dt>John Goodman</dt>\n",
       "\t\t<dd>40</dd>\n",
       "\t<dt>Johnny Depp</dt>\n",
       "\t\t<dd>40</dd>\n",
       "\t<dt>Matt Damon</dt>\n",
       "\t\t<dd>40</dd>\n",
       "</dl>\n"
      ],
      "text/latex": [
       "\\begin{description*}\n",
       "\\item[Robert De Niro] 59\n",
       "\\item[Samuel L. Jackson] 52\n",
       "\\item[Bruce Willis] 51\n",
       "\\item[Nicolas Cage] 51\n",
       "\\item[Morgan Freeman] 49\n",
       "\\item[Meryl Streep] 45\n",
       "\\item[Jeff Bridges] 42\n",
       "\\item[John Goodman] 40\n",
       "\\item[Johnny Depp] 40\n",
       "\\item[Matt Damon] 40\n",
       "\\end{description*}\n"
      ],
      "text/markdown": [
       "Robert De Niro\n",
       ":   59Samuel L. Jackson\n",
       ":   52Bruce Willis\n",
       ":   51Nicolas Cage\n",
       ":   51Morgan Freeman\n",
       ":   49Meryl Streep\n",
       ":   45Jeff Bridges\n",
       ":   42John Goodman\n",
       ":   40Johnny Depp\n",
       ":   40Matt Damon\n",
       ":   40\n",
       "\n"
      ],
      "text/plain": [
       "   Robert De Niro Samuel L. Jackson      Bruce Willis      Nicolas Cage \n",
       "               59                52                51                51 \n",
       "   Morgan Freeman      Meryl Streep      Jeff Bridges      John Goodman \n",
       "               49                45                42                40 \n",
       "      Johnny Depp        Matt Damon \n",
       "               40                40 "
      ]
     },
     "metadata": {},
     "output_type": "display_data"
    }
   ],
   "source": [
    "# Which actor has starred in the most films\n",
    "sort(colSums(movie_actor_matrix), decreasing = TRUE)[1:10]"
   ]
  },
  {
   "cell_type": "code",
   "execution_count": 10,
   "metadata": {},
   "outputs": [
    {
     "data": {
      "image/png": "[encoded data removed]",
      "text/plain": [
       "plot without title"
      ]
     },
     "metadata": {},
     "output_type": "display_data"
    },
    {
     "data": {
      "image/png": "[encoded data removed]",
      "text/plain": [
       "plot without title"
      ]
     },
     "metadata": {},
     "output_type": "display_data"
    }
   ],
   "source": [
    "# Are the actor participations Zipf distributed\n",
    "plot(colSums(movie_actor_matrix))\n",
    "plot(colSums(movie_actor_matrix), log=c(\"x\",\"y\"))"
   ]
  },
  {
   "cell_type": "code",
   "execution_count": 11,
   "metadata": {},
   "outputs": [
    {
     "data": {
      "text/html": [
       "37"
      ],
      "text/latex": [
       "37"
      ],
      "text/markdown": [
       "37"
      ],
      "text/plain": [
       "[1] 37"
      ]
     },
     "metadata": {},
     "output_type": "display_data"
    }
   ],
   "source": [
    "# check the number of occurrences of a certain actor\n",
    "actor <- \"Brad Pitt\"\n",
    "sum(movie_actor_matrix[,actor])"
   ]
  },
  {
   "cell_type": "markdown",
   "metadata": {},
   "source": [
    "## Which actors play together very often? - Creation of an actor times actor matrix with the number of shared appearances in the cells"
   ]
  },
  {
   "cell_type": "markdown",
   "metadata": {},
   "source": [
    "### But first, let's talk about sparsity\n",
    "In our movie_actor_matrix most of the cells have the value 0 and only few of them are value 1"
   ]
  },
  {
   "cell_type": "code",
   "execution_count": 12,
   "metadata": {},
   "outputs": [
    {
     "data": {
      "text/html": [
       "36006310"
      ],
      "text/latex": [
       "36006310"
      ],
      "text/markdown": [
       "36006310"
      ],
      "text/plain": [
       "[1] 36006310"
      ]
     },
     "metadata": {},
     "output_type": "display_data"
    },
    {
     "data": {
      "text/html": [
       "35982141"
      ],
      "text/latex": [
       "35982141"
      ],
      "text/markdown": [
       "35982141"
      ],
      "text/plain": [
       "[1] 35982141"
      ]
     },
     "metadata": {},
     "output_type": "display_data"
    },
    {
     "data": {
      "text/html": [
       "0.99932875654295"
      ],
      "text/latex": [
       "0.99932875654295"
      ],
      "text/markdown": [
       "0.99932875654295"
      ],
      "text/plain": [
       "[1] 0.9993288"
      ]
     },
     "metadata": {},
     "output_type": "display_data"
    }
   ],
   "source": [
    "# number of cells in movie_actor_matrix\n",
    "nrow(movie_actor_matrix) * ncol(movie_actor_matrix)\n",
    "# which of those have value '0'\n",
    "length(which(movie_actor_matrix==0))\n",
    "# sparsity:\n",
    "length(which(movie_actor_matrix==0))/ (nrow(movie_actor_matrix) * ncol(movie_actor_matrix))"
   ]
  },
  {
   "cell_type": "markdown",
   "metadata": {},
   "source": [
    "#### Rightnow with the current data type of @movie_actor_matrix every cell is saved seperately. THence the amount of storage space is very high."
   ]
  },
  {
   "cell_type": "code",
   "execution_count": 13,
   "metadata": {},
   "outputs": [
    {
     "data": {
      "text/html": [
       "'matrix'"
      ],
      "text/latex": [
       "'matrix'"
      ],
      "text/markdown": [
       "'matrix'"
      ],
      "text/plain": [
       "[1] \"matrix\""
      ]
     },
     "metadata": {},
     "output_type": "display_data"
    },
    {
     "data": {
      "text/plain": [
       "288971664 bytes"
      ]
     },
     "metadata": {},
     "output_type": "display_data"
    },
    {
     "data": {
      "text/html": [
       "'275.584854125977 MB'"
      ],
      "text/latex": [
       "'275.584854125977 MB'"
      ],
      "text/markdown": [
       "'275.584854125977 MB'"
      ],
      "text/plain": [
       "[1] \"275.584854125977 MB\""
      ]
     },
     "metadata": {},
     "output_type": "display_data"
    }
   ],
   "source": [
    "class(movie_actor_matrix)\n",
    "object.size(movie_actor_matrix)\n",
    "paste(as.numeric(object.size(movie_actor_matrix))/1024^2,\"MB\")"
   ]
  },
  {
   "cell_type": "markdown",
   "metadata": {},
   "source": [
    "### It would be completely sufficient to save the entries other than 0. The package Matrix can do just that."
   ]
  },
  {
   "cell_type": "code",
   "execution_count": 14,
   "metadata": {},
   "outputs": [
    {
     "name": "stderr",
     "output_type": "stream",
     "text": [
      "Warning message:\n",
      "“package ‘Matrix’ was built under R version 3.6.2”"
     ]
    },
    {
     "data": {
      "text/html": [
       "'dgCMatrix'"
      ],
      "text/latex": [
       "'dgCMatrix'"
      ],
      "text/markdown": [
       "'dgCMatrix'"
      ],
      "text/plain": [
       "[1] \"dgCMatrix\"\n",
       "attr(,\"package\")\n",
       "[1] \"Matrix\""
      ]
     },
     "metadata": {},
     "output_type": "display_data"
    },
    {
     "data": {
      "text/plain": [
       "1239968 bytes"
      ]
     },
     "metadata": {},
     "output_type": "display_data"
    }
   ],
   "source": [
    "library(Matrix)\n",
    "sparse_movie_actor_matrix <- Matrix(movie_actor_matrix, sparse = TRUE)\n",
    "class(sparse_movie_actor_matrix)\n",
    "object.size(sparse_movie_actor_matrix)"
   ]
  },
  {
   "cell_type": "code",
   "execution_count": 15,
   "metadata": {
    "scrolled": true
   },
   "outputs": [
    {
     "data": {
      "text/html": [
       "'regular 275.584854125977 MB'"
      ],
      "text/latex": [
       "'regular 275.584854125977 MB'"
      ],
      "text/markdown": [
       "'regular 275.584854125977 MB'"
      ],
      "text/plain": [
       "[1] \"regular 275.584854125977 MB\""
      ]
     },
     "metadata": {},
     "output_type": "display_data"
    },
    {
     "data": {
      "text/html": [
       "'sparse 1.18252563476562 MB'"
      ],
      "text/latex": [
       "'sparse 1.18252563476562 MB'"
      ],
      "text/markdown": [
       "'sparse 1.18252563476562 MB'"
      ],
      "text/plain": [
       "[1] \"sparse 1.18252563476562 MB\""
      ]
     },
     "metadata": {},
     "output_type": "display_data"
    }
   ],
   "source": [
    "# Lets compare the 2 object sizes\n",
    "paste(\"regular\",as.numeric(object.size(movie_actor_matrix))/1024^2,\"MB\")\n",
    "paste(\"sparse\",as.numeric(object.size(sparse_movie_actor_matrix))/1024^2,\"MB\")"
   ]
  },
  {
   "cell_type": "markdown",
   "metadata": {},
   "source": [
    "### Actor times Actor Matrix can be calculated using Matrix multiplication of the movie_actor_matrix\n",
    "> t(@a) = transpose @a  \n",
    ">@a%*%@b = matrix multiplication of @a and @b"
   ]
  },
  {
   "cell_type": "code",
   "execution_count": 16,
   "metadata": {},
   "outputs": [
    {
     "name": "stderr",
     "output_type": "stream",
     "text": [
      "Warning message:\n",
      "“package ‘knitr’ was built under R version 3.6.2”"
     ]
    },
    {
     "data": {
      "text/html": [
       "<table>\n",
       " <thead>\n",
       "  <tr>\n",
       "   <th style=\"text-align:left;\">   </th>\n",
       "   <th style=\"text-align:right;\"> Robert De Niro </th>\n",
       "   <th style=\"text-align:right;\"> Owen Wilson </th>\n",
       "   <th style=\"text-align:right;\"> Robin Williams </th>\n",
       "   <th style=\"text-align:right;\"> Ben Stiller </th>\n",
       "   <th style=\"text-align:right;\"> Matt Damon </th>\n",
       "  </tr>\n",
       " </thead>\n",
       "<tbody>\n",
       "  <tr>\n",
       "   <td style=\"text-align:left;\"> Zoolander 2 </td>\n",
       "   <td style=\"text-align:right;\"> 0 </td>\n",
       "   <td style=\"text-align:right;\"> 1 </td>\n",
       "   <td style=\"text-align:right;\"> 0 </td>\n",
       "   <td style=\"text-align:right;\"> 1 </td>\n",
       "   <td style=\"text-align:right;\"> 0 </td>\n",
       "  </tr>\n",
       "  <tr>\n",
       "   <td style=\"text-align:left;\"> Zoolander </td>\n",
       "   <td style=\"text-align:right;\"> 0 </td>\n",
       "   <td style=\"text-align:right;\"> 1 </td>\n",
       "   <td style=\"text-align:right;\"> 0 </td>\n",
       "   <td style=\"text-align:right;\"> 1 </td>\n",
       "   <td style=\"text-align:right;\"> 0 </td>\n",
       "  </tr>\n",
       "  <tr>\n",
       "   <td style=\"text-align:left;\"> Starsky &amp; Hutch </td>\n",
       "   <td style=\"text-align:right;\"> 0 </td>\n",
       "   <td style=\"text-align:right;\"> 1 </td>\n",
       "   <td style=\"text-align:right;\"> 0 </td>\n",
       "   <td style=\"text-align:right;\"> 1 </td>\n",
       "   <td style=\"text-align:right;\"> 0 </td>\n",
       "  </tr>\n",
       "  <tr>\n",
       "   <td style=\"text-align:left;\"> Good Will Hunting </td>\n",
       "   <td style=\"text-align:right;\"> 0 </td>\n",
       "   <td style=\"text-align:right;\"> 0 </td>\n",
       "   <td style=\"text-align:right;\"> 1 </td>\n",
       "   <td style=\"text-align:right;\"> 0 </td>\n",
       "   <td style=\"text-align:right;\"> 1 </td>\n",
       "  </tr>\n",
       "  <tr>\n",
       "   <td style=\"text-align:left;\"> Night at the Museum </td>\n",
       "   <td style=\"text-align:right;\"> 0 </td>\n",
       "   <td style=\"text-align:right;\"> 1 </td>\n",
       "   <td style=\"text-align:right;\"> 1 </td>\n",
       "   <td style=\"text-align:right;\"> 1 </td>\n",
       "   <td style=\"text-align:right;\"> 0 </td>\n",
       "  </tr>\n",
       "  <tr>\n",
       "   <td style=\"text-align:left;\"> Night at the Museum: Battle of the Smithsonian </td>\n",
       "   <td style=\"text-align:right;\"> 0 </td>\n",
       "   <td style=\"text-align:right;\"> 1 </td>\n",
       "   <td style=\"text-align:right;\"> 1 </td>\n",
       "   <td style=\"text-align:right;\"> 1 </td>\n",
       "   <td style=\"text-align:right;\"> 0 </td>\n",
       "  </tr>\n",
       "  <tr>\n",
       "   <td style=\"text-align:left;\"> Happy Feet Two </td>\n",
       "   <td style=\"text-align:right;\"> 0 </td>\n",
       "   <td style=\"text-align:right;\"> 0 </td>\n",
       "   <td style=\"text-align:right;\"> 1 </td>\n",
       "   <td style=\"text-align:right;\"> 0 </td>\n",
       "   <td style=\"text-align:right;\"> 1 </td>\n",
       "  </tr>\n",
       "  <tr>\n",
       "   <td style=\"text-align:left;\"> Little Fockers </td>\n",
       "   <td style=\"text-align:right;\"> 1 </td>\n",
       "   <td style=\"text-align:right;\"> 1 </td>\n",
       "   <td style=\"text-align:right;\"> 0 </td>\n",
       "   <td style=\"text-align:right;\"> 1 </td>\n",
       "   <td style=\"text-align:right;\"> 0 </td>\n",
       "  </tr>\n",
       "  <tr>\n",
       "   <td style=\"text-align:left;\"> Meet the Parents </td>\n",
       "   <td style=\"text-align:right;\"> 1 </td>\n",
       "   <td style=\"text-align:right;\"> 1 </td>\n",
       "   <td style=\"text-align:right;\"> 0 </td>\n",
       "   <td style=\"text-align:right;\"> 1 </td>\n",
       "   <td style=\"text-align:right;\"> 0 </td>\n",
       "  </tr>\n",
       "  <tr>\n",
       "   <td style=\"text-align:left;\"> Awakenings </td>\n",
       "   <td style=\"text-align:right;\"> 1 </td>\n",
       "   <td style=\"text-align:right;\"> 0 </td>\n",
       "   <td style=\"text-align:right;\"> 1 </td>\n",
       "   <td style=\"text-align:right;\"> 0 </td>\n",
       "   <td style=\"text-align:right;\"> 0 </td>\n",
       "  </tr>\n",
       "</tbody>\n",
       "</table>"
      ]
     },
     "metadata": {},
     "output_type": "display_data"
    }
   ],
   "source": [
    "# create snippet to show mechanism\n",
    "library(knitr)\n",
    "library(IRdisplay)\n",
    "actors_for_snippet<-c(\"Robert De Niro\", \"Owen Wilson\", \"Robin Williams\", \"Ben Stiller\", \"Matt Damon\")\n",
    "movies_for_snippet<-c(\"Zoolander 2\", \"Zoolander\", \"Starsky & Hutch\", \"Good Will Hunting\", \"Night at the Museum\", \"Night at the Museum: Battle of the Smithsonian\", \"Happy Feet Two\", \"Little Fockers\", \"Meet the Parents\", \"Awakenings\")\n",
    "snippet <- sparse_movie_actor_matrix[movies_for_snippet, actors_for_snippet]\n",
    "as.matrix(snippet)%>%\n",
    "    kable(\"html\")%>%\n",
    "    as.character() %>%\n",
    "    display_html()\n"
   ]
  },
  {
   "cell_type": "code",
   "execution_count": 17,
   "metadata": {},
   "outputs": [
    {
     "data": {
      "text/html": [
       "<table>\n",
       " <thead>\n",
       "  <tr>\n",
       "   <th style=\"text-align:left;\">   </th>\n",
       "   <th style=\"text-align:right;\"> Zoolander 2 </th>\n",
       "   <th style=\"text-align:right;\"> Zoolander </th>\n",
       "   <th style=\"text-align:right;\"> Starsky &amp; Hutch </th>\n",
       "   <th style=\"text-align:right;\"> Good Will Hunting </th>\n",
       "   <th style=\"text-align:right;\"> Night at the Museum </th>\n",
       "   <th style=\"text-align:right;\"> Night at the Museum: Battle of the Smithsonian </th>\n",
       "   <th style=\"text-align:right;\"> Happy Feet Two </th>\n",
       "   <th style=\"text-align:right;\"> Little Fockers </th>\n",
       "   <th style=\"text-align:right;\"> Meet the Parents </th>\n",
       "   <th style=\"text-align:right;\"> Awakenings </th>\n",
       "  </tr>\n",
       " </thead>\n",
       "<tbody>\n",
       "  <tr>\n",
       "   <td style=\"text-align:left;\"> Robert De Niro </td>\n",
       "   <td style=\"text-align:right;\"> 0 </td>\n",
       "   <td style=\"text-align:right;\"> 0 </td>\n",
       "   <td style=\"text-align:right;\"> 0 </td>\n",
       "   <td style=\"text-align:right;\"> 0 </td>\n",
       "   <td style=\"text-align:right;\"> 0 </td>\n",
       "   <td style=\"text-align:right;\"> 0 </td>\n",
       "   <td style=\"text-align:right;\"> 0 </td>\n",
       "   <td style=\"text-align:right;\"> 1 </td>\n",
       "   <td style=\"text-align:right;\"> 1 </td>\n",
       "   <td style=\"text-align:right;\"> 1 </td>\n",
       "  </tr>\n",
       "  <tr>\n",
       "   <td style=\"text-align:left;\"> Owen Wilson </td>\n",
       "   <td style=\"text-align:right;\"> 1 </td>\n",
       "   <td style=\"text-align:right;\"> 1 </td>\n",
       "   <td style=\"text-align:right;\"> 1 </td>\n",
       "   <td style=\"text-align:right;\"> 0 </td>\n",
       "   <td style=\"text-align:right;\"> 1 </td>\n",
       "   <td style=\"text-align:right;\"> 1 </td>\n",
       "   <td style=\"text-align:right;\"> 0 </td>\n",
       "   <td style=\"text-align:right;\"> 1 </td>\n",
       "   <td style=\"text-align:right;\"> 1 </td>\n",
       "   <td style=\"text-align:right;\"> 0 </td>\n",
       "  </tr>\n",
       "  <tr>\n",
       "   <td style=\"text-align:left;\"> Robin Williams </td>\n",
       "   <td style=\"text-align:right;\"> 0 </td>\n",
       "   <td style=\"text-align:right;\"> 0 </td>\n",
       "   <td style=\"text-align:right;\"> 0 </td>\n",
       "   <td style=\"text-align:right;\"> 1 </td>\n",
       "   <td style=\"text-align:right;\"> 1 </td>\n",
       "   <td style=\"text-align:right;\"> 1 </td>\n",
       "   <td style=\"text-align:right;\"> 1 </td>\n",
       "   <td style=\"text-align:right;\"> 0 </td>\n",
       "   <td style=\"text-align:right;\"> 0 </td>\n",
       "   <td style=\"text-align:right;\"> 1 </td>\n",
       "  </tr>\n",
       "  <tr>\n",
       "   <td style=\"text-align:left;\"> Ben Stiller </td>\n",
       "   <td style=\"text-align:right;\"> 1 </td>\n",
       "   <td style=\"text-align:right;\"> 1 </td>\n",
       "   <td style=\"text-align:right;\"> 1 </td>\n",
       "   <td style=\"text-align:right;\"> 0 </td>\n",
       "   <td style=\"text-align:right;\"> 1 </td>\n",
       "   <td style=\"text-align:right;\"> 1 </td>\n",
       "   <td style=\"text-align:right;\"> 0 </td>\n",
       "   <td style=\"text-align:right;\"> 1 </td>\n",
       "   <td style=\"text-align:right;\"> 1 </td>\n",
       "   <td style=\"text-align:right;\"> 0 </td>\n",
       "  </tr>\n",
       "  <tr>\n",
       "   <td style=\"text-align:left;\"> Matt Damon </td>\n",
       "   <td style=\"text-align:right;\"> 0 </td>\n",
       "   <td style=\"text-align:right;\"> 0 </td>\n",
       "   <td style=\"text-align:right;\"> 0 </td>\n",
       "   <td style=\"text-align:right;\"> 1 </td>\n",
       "   <td style=\"text-align:right;\"> 0 </td>\n",
       "   <td style=\"text-align:right;\"> 0 </td>\n",
       "   <td style=\"text-align:right;\"> 1 </td>\n",
       "   <td style=\"text-align:right;\"> 0 </td>\n",
       "   <td style=\"text-align:right;\"> 0 </td>\n",
       "   <td style=\"text-align:right;\"> 0 </td>\n",
       "  </tr>\n",
       "</tbody>\n",
       "</table>"
      ]
     },
     "metadata": {},
     "output_type": "display_data"
    }
   ],
   "source": [
    "# transpose\n",
    "as.matrix(t(snippet))%>%\n",
    "    kable(\"html\")%>%\n",
    "    as.character() %>%\n",
    "    display_html()"
   ]
  },
  {
   "cell_type": "markdown",
   "metadata": {},
   "source": [
    "### Matrix Multiplication ([Wiki](https://de.wikipedia.org/wiki/Matrizenmultiplikation))"
   ]
  },
  {
   "cell_type": "code",
   "execution_count": 18,
   "metadata": {},
   "outputs": [
    {
     "data": {
      "text/plain": [
       "5 x 5 sparse Matrix of class \"dgCMatrix\"\n",
       "               Robert De Niro Owen Wilson Robin Williams Ben Stiller Matt Damon\n",
       "Robert De Niro              3           2              1           2          .\n",
       "Owen Wilson                 2           7              2           7          .\n",
       "Robin Williams              1           2              5           2          2\n",
       "Ben Stiller                 2           7              2           7          .\n",
       "Matt Damon                  .           .              2           .          2"
      ]
     },
     "metadata": {},
     "output_type": "display_data"
    },
    {
     "data": {
      "text/plain": [
       "5 x 5 sparse Matrix of class \"dgCMatrix\"\n",
       "               Robert De Niro Owen Wilson Robin Williams Ben Stiller Matt Damon\n",
       "Robert De Niro              0           2              1           2          .\n",
       "Owen Wilson                 2           0              2           7          .\n",
       "Robin Williams              1           2              0           2          2\n",
       "Ben Stiller                 2           7              2           0          .\n",
       "Matt Damon                  .           .              2           .          0"
      ]
     },
     "metadata": {},
     "output_type": "display_data"
    }
   ],
   "source": [
    "# Matrix multiplication\n",
    "snippet_actor_actor_matrix<-t(snippet)%*%snippet\n",
    "snippet_actor_actor_matrix\n",
    "diag(snippet_actor_actor_matrix)<-0\n",
    "snippet_actor_actor_matrix"
   ]
  },
  {
   "cell_type": "code",
   "execution_count": 19,
   "metadata": {},
   "outputs": [],
   "source": [
    "# Appliation on whole data set\n",
    "actor_actor_matrix<-t(sparse_movie_actor_matrix)%*%sparse_movie_actor_matrix\n",
    "diag(actor_actor_matrix)<-0"
   ]
  },
  {
   "cell_type": "code",
   "execution_count": 50,
   "metadata": {},
   "outputs": [
    {
     "data": {
      "text/html": [
       "9"
      ],
      "text/latex": [
       "9"
      ],
      "text/markdown": [
       "9"
      ],
      "text/plain": [
       "[1] 9"
      ]
     },
     "metadata": {},
     "output_type": "display_data"
    },
    {
     "data": {
      "text/html": [
       "<table>\n",
       "<caption>A data.frame: 21 × 3</caption>\n",
       "<thead>\n",
       "\t<tr><th></th><th scope=col>actor1</th><th scope=col>actor2</th><th scope=col>count</th></tr>\n",
       "\t<tr><th></th><th scope=col>&lt;fct&gt;</th><th scope=col>&lt;fct&gt;</th><th scope=col>&lt;dbl&gt;</th></tr>\n",
       "</thead>\n",
       "<tbody>\n",
       "\t<tr><th scope=row>3</th><td>Ben Stiller         </td><td>Owen Wilson     </td><td>9</td></tr>\n",
       "\t<tr><th scope=row>11</th><td>Robbie Coltrane     </td><td>Emma Watson     </td><td>8</td></tr>\n",
       "\t<tr><th scope=row>12</th><td>Daniel Radcliffe    </td><td>Emma Watson     </td><td>8</td></tr>\n",
       "\t<tr><th scope=row>13</th><td>Rupert Grint        </td><td>Emma Watson     </td><td>8</td></tr>\n",
       "\t<tr><th scope=row>20</th><td>Rupert Grint        </td><td>Daniel Radcliffe</td><td>8</td></tr>\n",
       "\t<tr><th scope=row>4</th><td>Dom DeLuise         </td><td>Burt Reynolds   </td><td>7</td></tr>\n",
       "\t<tr><th scope=row>8</th><td>Rupert Grint        </td><td>Alan Rickman    </td><td>7</td></tr>\n",
       "\t<tr><th scope=row>18</th><td>Daniel Radcliffe    </td><td>Robbie Coltrane </td><td>7</td></tr>\n",
       "\t<tr><th scope=row>19</th><td>Rupert Grint        </td><td>Robbie Coltrane </td><td>7</td></tr>\n",
       "\t<tr><th scope=row>1</th><td>Michael Caine       </td><td>Morgan Freeman  </td><td>6</td></tr>\n",
       "\t<tr><th scope=row>2</th><td>Helena Bonham Carter</td><td>Johnny Depp     </td><td>6</td></tr>\n",
       "\t<tr><th scope=row>5</th><td>Emma Watson         </td><td>Alan Rickman    </td><td>6</td></tr>\n",
       "\t<tr><th scope=row>6</th><td>Robbie Coltrane     </td><td>Alan Rickman    </td><td>6</td></tr>\n",
       "\t<tr><th scope=row>7</th><td>Daniel Radcliffe    </td><td>Alan Rickman    </td><td>6</td></tr>\n",
       "\t<tr><th scope=row>9</th><td>Mia Farrow          </td><td>Woody Allen     </td><td>6</td></tr>\n",
       "\t<tr><th scope=row>10</th><td>Michael Gambon      </td><td>Emma Watson     </td><td>6</td></tr>\n",
       "\t<tr><th scope=row>14</th><td>Jack Lemmon         </td><td>Walter Matthau  </td><td>6</td></tr>\n",
       "\t<tr><th scope=row>15</th><td>Daniel Radcliffe    </td><td>Michael Gambon  </td><td>6</td></tr>\n",
       "\t<tr><th scope=row>16</th><td>Rupert Grint        </td><td>Michael Gambon  </td><td>6</td></tr>\n",
       "\t<tr><th scope=row>17</th><td>Nick Frost          </td><td>Simon Pegg      </td><td>6</td></tr>\n",
       "\t<tr><th scope=row>21</th><td>Leonard Nimoy       </td><td>William Shatner </td><td>6</td></tr>\n",
       "</tbody>\n",
       "</table>\n"
      ],
      "text/latex": [
       "A data.frame: 21 × 3\n",
       "\\begin{tabular}{r|lll}\n",
       "  & actor1 & actor2 & count\\\\\n",
       "  & <fct> & <fct> & <dbl>\\\\\n",
       "\\hline\n",
       "\t3 & Ben Stiller          & Owen Wilson      & 9\\\\\n",
       "\t11 & Robbie Coltrane      & Emma Watson      & 8\\\\\n",
       "\t12 & Daniel Radcliffe     & Emma Watson      & 8\\\\\n",
       "\t13 & Rupert Grint         & Emma Watson      & 8\\\\\n",
       "\t20 & Rupert Grint         & Daniel Radcliffe & 8\\\\\n",
       "\t4 & Dom DeLuise          & Burt Reynolds    & 7\\\\\n",
       "\t8 & Rupert Grint         & Alan Rickman     & 7\\\\\n",
       "\t18 & Daniel Radcliffe     & Robbie Coltrane  & 7\\\\\n",
       "\t19 & Rupert Grint         & Robbie Coltrane  & 7\\\\\n",
       "\t1 & Michael Caine        & Morgan Freeman   & 6\\\\\n",
       "\t2 & Helena Bonham Carter & Johnny Depp      & 6\\\\\n",
       "\t5 & Emma Watson          & Alan Rickman     & 6\\\\\n",
       "\t6 & Robbie Coltrane      & Alan Rickman     & 6\\\\\n",
       "\t7 & Daniel Radcliffe     & Alan Rickman     & 6\\\\\n",
       "\t9 & Mia Farrow           & Woody Allen      & 6\\\\\n",
       "\t10 & Michael Gambon       & Emma Watson      & 6\\\\\n",
       "\t14 & Jack Lemmon          & Walter Matthau   & 6\\\\\n",
       "\t15 & Daniel Radcliffe     & Michael Gambon   & 6\\\\\n",
       "\t16 & Rupert Grint         & Michael Gambon   & 6\\\\\n",
       "\t17 & Nick Frost           & Simon Pegg       & 6\\\\\n",
       "\t21 & Leonard Nimoy        & William Shatner  & 6\\\\\n",
       "\\end{tabular}\n"
      ],
      "text/markdown": [
       "\n",
       "A data.frame: 21 × 3\n",
       "\n",
       "| <!--/--> | actor1 &lt;fct&gt; | actor2 &lt;fct&gt; | count &lt;dbl&gt; |\n",
       "|---|---|---|---|\n",
       "| 3 | Ben Stiller          | Owen Wilson      | 9 |\n",
       "| 11 | Robbie Coltrane      | Emma Watson      | 8 |\n",
       "| 12 | Daniel Radcliffe     | Emma Watson      | 8 |\n",
       "| 13 | Rupert Grint         | Emma Watson      | 8 |\n",
       "| 20 | Rupert Grint         | Daniel Radcliffe | 8 |\n",
       "| 4 | Dom DeLuise          | Burt Reynolds    | 7 |\n",
       "| 8 | Rupert Grint         | Alan Rickman     | 7 |\n",
       "| 18 | Daniel Radcliffe     | Robbie Coltrane  | 7 |\n",
       "| 19 | Rupert Grint         | Robbie Coltrane  | 7 |\n",
       "| 1 | Michael Caine        | Morgan Freeman   | 6 |\n",
       "| 2 | Helena Bonham Carter | Johnny Depp      | 6 |\n",
       "| 5 | Emma Watson          | Alan Rickman     | 6 |\n",
       "| 6 | Robbie Coltrane      | Alan Rickman     | 6 |\n",
       "| 7 | Daniel Radcliffe     | Alan Rickman     | 6 |\n",
       "| 9 | Mia Farrow           | Woody Allen      | 6 |\n",
       "| 10 | Michael Gambon       | Emma Watson      | 6 |\n",
       "| 14 | Jack Lemmon          | Walter Matthau   | 6 |\n",
       "| 15 | Daniel Radcliffe     | Michael Gambon   | 6 |\n",
       "| 16 | Rupert Grint         | Michael Gambon   | 6 |\n",
       "| 17 | Nick Frost           | Simon Pegg       | 6 |\n",
       "| 21 | Leonard Nimoy        | William Shatner  | 6 |\n",
       "\n"
      ],
      "text/plain": [
       "   actor1               actor2           count\n",
       "3  Ben Stiller          Owen Wilson      9    \n",
       "11 Robbie Coltrane      Emma Watson      8    \n",
       "12 Daniel Radcliffe     Emma Watson      8    \n",
       "13 Rupert Grint         Emma Watson      8    \n",
       "20 Rupert Grint         Daniel Radcliffe 8    \n",
       "4  Dom DeLuise          Burt Reynolds    7    \n",
       "8  Rupert Grint         Alan Rickman     7    \n",
       "18 Daniel Radcliffe     Robbie Coltrane  7    \n",
       "19 Rupert Grint         Robbie Coltrane  7    \n",
       "1  Michael Caine        Morgan Freeman   6    \n",
       "2  Helena Bonham Carter Johnny Depp      6    \n",
       "5  Emma Watson          Alan Rickman     6    \n",
       "6  Robbie Coltrane      Alan Rickman     6    \n",
       "7  Daniel Radcliffe     Alan Rickman     6    \n",
       "9  Mia Farrow           Woody Allen      6    \n",
       "10 Michael Gambon       Emma Watson      6    \n",
       "14 Jack Lemmon          Walter Matthau   6    \n",
       "15 Daniel Radcliffe     Michael Gambon   6    \n",
       "16 Rupert Grint         Michael Gambon   6    \n",
       "17 Nick Frost           Simon Pegg       6    \n",
       "21 Leonard Nimoy        William Shatner  6    "
      ]
     },
     "metadata": {},
     "output_type": "display_data"
    }
   ],
   "source": [
    "# most joint appearances\n",
    "max(actor_actor_matrix)\n",
    "\n",
    "indices<-which(actor_actor_matrix > 5,arr.ind = T)\n",
    "# actor_actor_matrix is symetrical; hence we can unify pairs (a, b) and (b, a)\n",
    "indices<-indices[!duplicated(t(apply(indices, 1, sort))),]\n",
    "most_frequent_pairs<-data.frame(actor1 = rownames(actor_actor_matrix)[indices[,1]],\n",
    "                                actor2 = colnames(actor_actor_matrix)[indices[,2]],\n",
    "                                count = actor_actor_matrix[indices])\n",
    "most_frequent_pairs[order(most_frequent_pairs$count,decreasing=T),]\n",
    "\n",
    "# lets create a function for theese steps\n",
    "get_top_n_pairs <- function(matrix, n){\n",
    "    indices<-which(matrix>=sort(as.matrix(matrix),decreasing = T)[n*2],arr.ind=T)\n",
    "    indices<-indices[!duplicated(t(apply(indices, 1, sort))),]\n",
    "    most_frequent_pairs<-data.frame(actor1 = rownames(matrix)[indices[,1]],\n",
    "                                    actor2 = colnames(matrix)[indices[,2]],\n",
    "                                    sig = matrix[indices],\n",
    "                                    stringsAsFactors = FALSE)\n",
    "    return(most_frequent_pairs)\n",
    "}"
   ]
  },
  {
   "cell_type": "markdown",
   "metadata": {},
   "source": [
    "### Co-occurrence significance calculation\n",
    "In order to not only count joint occurrence we have to determine their significance. Different significance-measures can be used.  \n",
    "3 different significance measures are implemented in the tmca.cooccurrence package."
   ]
  },
  {
   "cell_type": "code",
   "execution_count": 21,
   "metadata": {},
   "outputs": [
    {
     "name": "stderr",
     "output_type": "stream",
     "text": [
      "Loading required package: testthat\n"
     ]
    }
   ],
   "source": [
    "library(tmca.cooccurrence)\n",
    "coocsCalc <- Coocc$new(binDTM = sparse_movie_actor_matrix)\n",
    "coocsCalc$set_minCoocFreq(2)\n",
    "coocsCalc$set_significanceThreshold(0)\n",
    "\n",
    "# log likelihood\n",
    "coocsCalc$set_measure(\"LOGLIK\")\n",
    "sig_log <- coocsCalc$ccoocs()\n",
    "diag(sig_log) <- 0 \n",
    "\n",
    "# Dice\n",
    "#coocsCalc$set_measure(\"DICE\")\n",
    "#sig_dice <- coocsCalc$ccoocs()\n",
    "#diag(sig_dice) <- 0 \n",
    "\n",
    "# Mutual information\n",
    "#coocsCalc$set_measure(\"MI\")\n",
    "#sig_mi <- coocsCalc$ccoocs()\n",
    "#diag(sig_mi) <- 0 \n",
    "\n"
   ]
  },
  {
   "cell_type": "code",
   "execution_count": 53,
   "metadata": {},
   "outputs": [
    {
     "data": {
      "text/html": [
       "<table>\n",
       "<caption>A data.frame: 25 × 6</caption>\n",
       "<thead>\n",
       "\t<tr><th></th><th scope=col>actor1</th><th scope=col>actor2</th><th scope=col>sig</th><th scope=col>Occurrences.Actor1</th><th scope=col>Occurrences.Actor2</th><th scope=col>Shared.Occurrences</th></tr>\n",
       "\t<tr><th></th><th scope=col>&lt;chr&gt;</th><th scope=col>&lt;chr&gt;</th><th scope=col>&lt;dbl&gt;</th><th scope=col>&lt;dbl&gt;</th><th scope=col>&lt;dbl&gt;</th><th scope=col>&lt;dbl&gt;</th></tr>\n",
       "</thead>\n",
       "<tbody>\n",
       "\t<tr><th scope=row>15</th><td>Rupert Grint      </td><td>Daniel Radcliffe</td><td>94.36328</td><td>10</td><td>12</td><td>8</td></tr>\n",
       "\t<tr><th scope=row>8</th><td>Rupert Grint      </td><td>Emma Watson     </td><td>86.13625</td><td>10</td><td>17</td><td>8</td></tr>\n",
       "\t<tr><th scope=row>7</th><td>Daniel Radcliffe  </td><td>Emma Watson     </td><td>80.87591</td><td>12</td><td>17</td><td>8</td></tr>\n",
       "\t<tr><th scope=row>6</th><td>Robbie Coltrane   </td><td>Emma Watson     </td><td>77.03826</td><td>14</td><td>17</td><td>8</td></tr>\n",
       "\t<tr><th scope=row>14</th><td>Rupert Grint      </td><td>Robbie Coltrane </td><td>74.94342</td><td>10</td><td>14</td><td>7</td></tr>\n",
       "\t<tr><th scope=row>13</th><td>Daniel Radcliffe  </td><td>Robbie Coltrane </td><td>70.86612</td><td>12</td><td>14</td><td>7</td></tr>\n",
       "\t<tr><th scope=row>17</th><td>Leonard Nimoy     </td><td>William Shatner </td><td>68.27510</td><td> 9</td><td>10</td><td>6</td></tr>\n",
       "\t<tr><th scope=row>4</th><td>Rupert Grint      </td><td>Alan Rickman    </td><td>66.09546</td><td>10</td><td>23</td><td>7</td></tr>\n",
       "\t<tr><th scope=row>25</th><td>Nichelle Nichols  </td><td>DeForest Kelley </td><td>65.33608</td><td> 4</td><td> 4</td><td>4</td></tr>\n",
       "\t<tr><th scope=row>12</th><td>Nick Frost        </td><td>Simon Pegg      </td><td>60.61970</td><td>10</td><td>14</td><td>6</td></tr>\n",
       "\t<tr><th scope=row>24</th><td>Leslie Easterbrook</td><td>Bubba Smith     </td><td>60.34742</td><td> 4</td><td> 5</td><td>4</td></tr>\n",
       "\t<tr><th scope=row>11</th><td>Rupert Grint      </td><td>Michael Gambon  </td><td>59.55242</td><td>10</td><td>15</td><td>6</td></tr>\n",
       "\t<tr><th scope=row>9</th><td>Jack Lemmon       </td><td>Walter Matthau  </td><td>56.38449</td><td>12</td><td>15</td><td>6</td></tr>\n",
       "\t<tr><th scope=row>10</th><td>Daniel Radcliffe  </td><td>Michael Gambon  </td><td>56.38449</td><td>12</td><td>15</td><td>6</td></tr>\n",
       "\t<tr><th scope=row>23</th><td>Costas Mandylor   </td><td>Tobin Bell      </td><td>55.79226</td><td> 4</td><td> 7</td><td>4</td></tr>\n",
       "\t<tr><th scope=row>1</th><td>Ben Stiller       </td><td>Owen Wilson     </td><td>54.78662</td><td>32</td><td>35</td><td>9</td></tr>\n",
       "\t<tr><th scope=row>22</th><td>Ester Dean        </td><td>Rebel Wilson    </td><td>54.26293</td><td> 4</td><td> 8</td><td>4</td></tr>\n",
       "\t<tr><th scope=row>2</th><td>Dom DeLuise       </td><td>Burt Reynolds   </td><td>54.10142</td><td>14</td><td>31</td><td>7</td></tr>\n",
       "\t<tr><th scope=row>20</th><td>DeForest Kelley   </td><td>Leonard Nimoy   </td><td>52.98818</td><td> 4</td><td> 9</td><td>4</td></tr>\n",
       "\t<tr><th scope=row>21</th><td>Nichelle Nichols  </td><td>Leonard Nimoy   </td><td>52.98818</td><td> 4</td><td> 9</td><td>4</td></tr>\n",
       "\t<tr><th scope=row>18</th><td>DeForest Kelley   </td><td>William Shatner </td><td>51.89341</td><td> 4</td><td>10</td><td>4</td></tr>\n",
       "\t<tr><th scope=row>19</th><td>Nichelle Nichols  </td><td>William Shatner </td><td>51.89341</td><td> 4</td><td>10</td><td>4</td></tr>\n",
       "\t<tr><th scope=row>5</th><td>Michael Gambon    </td><td>Emma Watson     </td><td>50.96344</td><td>15</td><td>17</td><td>6</td></tr>\n",
       "\t<tr><th scope=row>16</th><td>David Arquette    </td><td>Courteney Cox   </td><td>50.47197</td><td>10</td><td>11</td><td>5</td></tr>\n",
       "\t<tr><th scope=row>3</th><td>Daniel Radcliffe  </td><td>Alan Rickman    </td><td>50.19140</td><td>12</td><td>23</td><td>6</td></tr>\n",
       "</tbody>\n",
       "</table>\n"
      ],
      "text/latex": [
       "A data.frame: 25 × 6\n",
       "\\begin{tabular}{r|llllll}\n",
       "  & actor1 & actor2 & sig & Occurrences.Actor1 & Occurrences.Actor2 & Shared.Occurrences\\\\\n",
       "  & <chr> & <chr> & <dbl> & <dbl> & <dbl> & <dbl>\\\\\n",
       "\\hline\n",
       "\t15 & Rupert Grint       & Daniel Radcliffe & 94.36328 & 10 & 12 & 8\\\\\n",
       "\t8 & Rupert Grint       & Emma Watson      & 86.13625 & 10 & 17 & 8\\\\\n",
       "\t7 & Daniel Radcliffe   & Emma Watson      & 80.87591 & 12 & 17 & 8\\\\\n",
       "\t6 & Robbie Coltrane    & Emma Watson      & 77.03826 & 14 & 17 & 8\\\\\n",
       "\t14 & Rupert Grint       & Robbie Coltrane  & 74.94342 & 10 & 14 & 7\\\\\n",
       "\t13 & Daniel Radcliffe   & Robbie Coltrane  & 70.86612 & 12 & 14 & 7\\\\\n",
       "\t17 & Leonard Nimoy      & William Shatner  & 68.27510 &  9 & 10 & 6\\\\\n",
       "\t4 & Rupert Grint       & Alan Rickman     & 66.09546 & 10 & 23 & 7\\\\\n",
       "\t25 & Nichelle Nichols   & DeForest Kelley  & 65.33608 &  4 &  4 & 4\\\\\n",
       "\t12 & Nick Frost         & Simon Pegg       & 60.61970 & 10 & 14 & 6\\\\\n",
       "\t24 & Leslie Easterbrook & Bubba Smith      & 60.34742 &  4 &  5 & 4\\\\\n",
       "\t11 & Rupert Grint       & Michael Gambon   & 59.55242 & 10 & 15 & 6\\\\\n",
       "\t9 & Jack Lemmon        & Walter Matthau   & 56.38449 & 12 & 15 & 6\\\\\n",
       "\t10 & Daniel Radcliffe   & Michael Gambon   & 56.38449 & 12 & 15 & 6\\\\\n",
       "\t23 & Costas Mandylor    & Tobin Bell       & 55.79226 &  4 &  7 & 4\\\\\n",
       "\t1 & Ben Stiller        & Owen Wilson      & 54.78662 & 32 & 35 & 9\\\\\n",
       "\t22 & Ester Dean         & Rebel Wilson     & 54.26293 &  4 &  8 & 4\\\\\n",
       "\t2 & Dom DeLuise        & Burt Reynolds    & 54.10142 & 14 & 31 & 7\\\\\n",
       "\t20 & DeForest Kelley    & Leonard Nimoy    & 52.98818 &  4 &  9 & 4\\\\\n",
       "\t21 & Nichelle Nichols   & Leonard Nimoy    & 52.98818 &  4 &  9 & 4\\\\\n",
       "\t18 & DeForest Kelley    & William Shatner  & 51.89341 &  4 & 10 & 4\\\\\n",
       "\t19 & Nichelle Nichols   & William Shatner  & 51.89341 &  4 & 10 & 4\\\\\n",
       "\t5 & Michael Gambon     & Emma Watson      & 50.96344 & 15 & 17 & 6\\\\\n",
       "\t16 & David Arquette     & Courteney Cox    & 50.47197 & 10 & 11 & 5\\\\\n",
       "\t3 & Daniel Radcliffe   & Alan Rickman     & 50.19140 & 12 & 23 & 6\\\\\n",
       "\\end{tabular}\n"
      ],
      "text/markdown": [
       "\n",
       "A data.frame: 25 × 6\n",
       "\n",
       "| <!--/--> | actor1 &lt;chr&gt; | actor2 &lt;chr&gt; | sig &lt;dbl&gt; | Occurrences.Actor1 &lt;dbl&gt; | Occurrences.Actor2 &lt;dbl&gt; | Shared.Occurrences &lt;dbl&gt; |\n",
       "|---|---|---|---|---|---|---|\n",
       "| 15 | Rupert Grint       | Daniel Radcliffe | 94.36328 | 10 | 12 | 8 |\n",
       "| 8 | Rupert Grint       | Emma Watson      | 86.13625 | 10 | 17 | 8 |\n",
       "| 7 | Daniel Radcliffe   | Emma Watson      | 80.87591 | 12 | 17 | 8 |\n",
       "| 6 | Robbie Coltrane    | Emma Watson      | 77.03826 | 14 | 17 | 8 |\n",
       "| 14 | Rupert Grint       | Robbie Coltrane  | 74.94342 | 10 | 14 | 7 |\n",
       "| 13 | Daniel Radcliffe   | Robbie Coltrane  | 70.86612 | 12 | 14 | 7 |\n",
       "| 17 | Leonard Nimoy      | William Shatner  | 68.27510 |  9 | 10 | 6 |\n",
       "| 4 | Rupert Grint       | Alan Rickman     | 66.09546 | 10 | 23 | 7 |\n",
       "| 25 | Nichelle Nichols   | DeForest Kelley  | 65.33608 |  4 |  4 | 4 |\n",
       "| 12 | Nick Frost         | Simon Pegg       | 60.61970 | 10 | 14 | 6 |\n",
       "| 24 | Leslie Easterbrook | Bubba Smith      | 60.34742 |  4 |  5 | 4 |\n",
       "| 11 | Rupert Grint       | Michael Gambon   | 59.55242 | 10 | 15 | 6 |\n",
       "| 9 | Jack Lemmon        | Walter Matthau   | 56.38449 | 12 | 15 | 6 |\n",
       "| 10 | Daniel Radcliffe   | Michael Gambon   | 56.38449 | 12 | 15 | 6 |\n",
       "| 23 | Costas Mandylor    | Tobin Bell       | 55.79226 |  4 |  7 | 4 |\n",
       "| 1 | Ben Stiller        | Owen Wilson      | 54.78662 | 32 | 35 | 9 |\n",
       "| 22 | Ester Dean         | Rebel Wilson     | 54.26293 |  4 |  8 | 4 |\n",
       "| 2 | Dom DeLuise        | Burt Reynolds    | 54.10142 | 14 | 31 | 7 |\n",
       "| 20 | DeForest Kelley    | Leonard Nimoy    | 52.98818 |  4 |  9 | 4 |\n",
       "| 21 | Nichelle Nichols   | Leonard Nimoy    | 52.98818 |  4 |  9 | 4 |\n",
       "| 18 | DeForest Kelley    | William Shatner  | 51.89341 |  4 | 10 | 4 |\n",
       "| 19 | Nichelle Nichols   | William Shatner  | 51.89341 |  4 | 10 | 4 |\n",
       "| 5 | Michael Gambon     | Emma Watson      | 50.96344 | 15 | 17 | 6 |\n",
       "| 16 | David Arquette     | Courteney Cox    | 50.47197 | 10 | 11 | 5 |\n",
       "| 3 | Daniel Radcliffe   | Alan Rickman     | 50.19140 | 12 | 23 | 6 |\n",
       "\n"
      ],
      "text/plain": [
       "   actor1             actor2           sig      Occurrences.Actor1\n",
       "15 Rupert Grint       Daniel Radcliffe 94.36328 10                \n",
       "8  Rupert Grint       Emma Watson      86.13625 10                \n",
       "7  Daniel Radcliffe   Emma Watson      80.87591 12                \n",
       "6  Robbie Coltrane    Emma Watson      77.03826 14                \n",
       "14 Rupert Grint       Robbie Coltrane  74.94342 10                \n",
       "13 Daniel Radcliffe   Robbie Coltrane  70.86612 12                \n",
       "17 Leonard Nimoy      William Shatner  68.27510  9                \n",
       "4  Rupert Grint       Alan Rickman     66.09546 10                \n",
       "25 Nichelle Nichols   DeForest Kelley  65.33608  4                \n",
       "12 Nick Frost         Simon Pegg       60.61970 10                \n",
       "24 Leslie Easterbrook Bubba Smith      60.34742  4                \n",
       "11 Rupert Grint       Michael Gambon   59.55242 10                \n",
       "9  Jack Lemmon        Walter Matthau   56.38449 12                \n",
       "10 Daniel Radcliffe   Michael Gambon   56.38449 12                \n",
       "23 Costas Mandylor    Tobin Bell       55.79226  4                \n",
       "1  Ben Stiller        Owen Wilson      54.78662 32                \n",
       "22 Ester Dean         Rebel Wilson     54.26293  4                \n",
       "2  Dom DeLuise        Burt Reynolds    54.10142 14                \n",
       "20 DeForest Kelley    Leonard Nimoy    52.98818  4                \n",
       "21 Nichelle Nichols   Leonard Nimoy    52.98818  4                \n",
       "18 DeForest Kelley    William Shatner  51.89341  4                \n",
       "19 Nichelle Nichols   William Shatner  51.89341  4                \n",
       "5  Michael Gambon     Emma Watson      50.96344 15                \n",
       "16 David Arquette     Courteney Cox    50.47197 10                \n",
       "3  Daniel Radcliffe   Alan Rickman     50.19140 12                \n",
       "   Occurrences.Actor2 Shared.Occurrences\n",
       "15 12                 8                 \n",
       "8  17                 8                 \n",
       "7  17                 8                 \n",
       "6  17                 8                 \n",
       "14 14                 7                 \n",
       "13 14                 7                 \n",
       "17 10                 6                 \n",
       "4  23                 7                 \n",
       "25  4                 4                 \n",
       "12 14                 6                 \n",
       "24  5                 4                 \n",
       "11 15                 6                 \n",
       "9  15                 6                 \n",
       "10 15                 6                 \n",
       "23  7                 4                 \n",
       "1  35                 9                 \n",
       "22  8                 4                 \n",
       "2  31                 7                 \n",
       "20  9                 4                 \n",
       "21  9                 4                 \n",
       "18 10                 4                 \n",
       "19 10                 4                 \n",
       "5  17                 6                 \n",
       "16 11                 5                 \n",
       "3  23                 6                 "
      ]
     },
     "metadata": {},
     "output_type": "display_data"
    }
   ],
   "source": [
    "log_likelihood_top_pairs <- get_top_n_pairs(matrix = sig_log, n = 25)\n",
    "log_likelihood_top_pairs <- log_likelihood_top_pairs[order(log_likelihood_top_pairs$sig,decreasing=TRUE),]\n",
    "# append individual occurrences and shared occurrences\n",
    "occurrences_actor1 <- NULL\n",
    "occurrences_actor2 <- NULL\n",
    "shared_occurrences <- NULL\n",
    "for(i in 1:nrow(log_likelihood_top_pairs)){\n",
    "    occurrences_actor1 <- c(occurrences_actor1, sum(movie_actor_matrix[,log_likelihood_top_pairs$actor1[i]]))\n",
    "    occurrences_actor2 <- c(occurrences_actor2, sum(movie_actor_matrix[,log_likelihood_top_pairs$actor2[i]]))\n",
    "    shared_occurrences <- c(shared_occurrences, actor_actor_matrix[log_likelihood_top_pairs$actor1[i],\n",
    "                                                                   log_likelihood_top_pairs$actor2[i]]\n",
    "                           )\n",
    "}\n",
    "\n",
    "log_likelihood_top_pairs<-data.frame(log_likelihood_top_pairs,\n",
    "                                     'Occurrences Actor1' = occurrences_actor1,\n",
    "                                      'Occurrences Actor2' = occurrences_actor2,\n",
    "                                      'Shared Occurrences' = shared_occurrences\n",
    "                                    )\n",
    "log_likelihood_top_pairs"
   ]
  },
  {
   "cell_type": "code",
   "execution_count": null,
   "metadata": {},
   "outputs": [],
   "source": []
  },
  {
   "cell_type": "code",
   "execution_count": null,
   "metadata": {},
   "outputs": [],
   "source": []
  },
  {
   "cell_type": "code",
   "execution_count": null,
   "metadata": {},
   "outputs": [],
   "source": []
  },
  {
   "cell_type": "markdown",
   "metadata": {},
   "source": [
    "### Now we can bring all theese information into an interactive R Shiny Application\n",
    "Link to Shiny App"
   ]
  }
 ],
 "metadata": {
  "kernelspec": {
   "display_name": "R",
   "language": "R",
   "name": "ir"
  },
  "language_info": {
   "codemirror_mode": "r",
   "file_extension": ".r",
   "mimetype": "text/x-r-source",
   "name": "R",
   "pygments_lexer": "r",
   "version": "3.6.1"
  }
 },
 "nbformat": 4,
 "nbformat_minor": 4
}
