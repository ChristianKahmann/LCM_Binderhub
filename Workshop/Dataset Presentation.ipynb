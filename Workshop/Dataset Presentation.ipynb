{
 "cells": [
  {
   "cell_type": "markdown",
   "metadata": {},
   "source": [
    "# Dataset Presentation"
   ]
  },
  {
   "cell_type": "markdown",
   "metadata": {},
   "source": [
    "## Outline\n",
    "\n",
    "* Read in Data Record\n",
    "* Get in touch with the data\n",
    "* preprocess text with spaCy\n",
    "* "
   ]
  },
  {
   "cell_type": "markdown",
   "metadata": {},
   "source": [
    "## Read in Data Record "
   ]
  },
  {
   "cell_type": "code",
   "execution_count": 1,
   "metadata": {},
   "outputs": [
    {
     "data": {
      "text/html": [
       "<ol class=list-inline>\n",
       "\t<li>5304</li>\n",
       "\t<li>11</li>\n",
       "</ol>\n"
      ],
      "text/latex": [
       "\\begin{enumerate*}\n",
       "\\item 5304\n",
       "\\item 11\n",
       "\\end{enumerate*}\n"
      ],
      "text/markdown": [
       "1. 5304\n",
       "2. 11\n",
       "\n",
       "\n"
      ],
      "text/plain": [
       "[1] 5304   11"
      ]
     },
     "metadata": {},
     "output_type": "display_data"
    },
    {
     "data": {
      "text/html": [
       "<ol class=list-inline>\n",
       "\t<li>'Release Year'</li>\n",
       "\t<li>'Title'</li>\n",
       "\t<li>'Origin/Ethnicity'</li>\n",
       "\t<li>'Director'</li>\n",
       "\t<li>'Cast'</li>\n",
       "\t<li>'Genre'</li>\n",
       "\t<li>'Wiki Page'</li>\n",
       "\t<li>'Plot'</li>\n",
       "\t<li>'Running time'</li>\n",
       "\t<li>'Budget'</li>\n",
       "\t<li>'Box office'</li>\n",
       "</ol>\n"
      ],
      "text/latex": [
       "\\begin{enumerate*}\n",
       "\\item 'Release Year'\n",
       "\\item 'Title'\n",
       "\\item 'Origin/Ethnicity'\n",
       "\\item 'Director'\n",
       "\\item 'Cast'\n",
       "\\item 'Genre'\n",
       "\\item 'Wiki Page'\n",
       "\\item 'Plot'\n",
       "\\item 'Running time'\n",
       "\\item 'Budget'\n",
       "\\item 'Box office'\n",
       "\\end{enumerate*}\n"
      ],
      "text/markdown": [
       "1. 'Release Year'\n",
       "2. 'Title'\n",
       "3. 'Origin/Ethnicity'\n",
       "4. 'Director'\n",
       "5. 'Cast'\n",
       "6. 'Genre'\n",
       "7. 'Wiki Page'\n",
       "8. 'Plot'\n",
       "9. 'Running time'\n",
       "10. 'Budget'\n",
       "11. 'Box office'\n",
       "\n",
       "\n"
      ],
      "text/plain": [
       " [1] \"Release Year\"     \"Title\"            \"Origin/Ethnicity\" \"Director\"        \n",
       " [5] \"Cast\"             \"Genre\"            \"Wiki Page\"        \"Plot\"            \n",
       " [9] \"Running time\"     \"Budget\"           \"Box office\"      "
      ]
     },
     "metadata": {},
     "output_type": "display_data"
    },
    {
     "data": {
      "text/html": [
       "<table>\n",
       "<caption>A data.frame: 1 × 11</caption>\n",
       "<thead>\n",
       "\t<tr><th></th><th scope=col>Release Year</th><th scope=col>Title</th><th scope=col>Origin/Ethnicity</th><th scope=col>Director</th><th scope=col>Cast</th><th scope=col>Genre</th><th scope=col>Wiki Page</th><th scope=col>Plot</th><th scope=col>Running time</th><th scope=col>Budget</th><th scope=col>Box office</th></tr>\n",
       "\t<tr><th></th><th scope=col>&lt;int&gt;</th><th scope=col>&lt;chr&gt;</th><th scope=col>&lt;chr&gt;</th><th scope=col>&lt;chr&gt;</th><th scope=col>&lt;chr&gt;</th><th scope=col>&lt;chr&gt;</th><th scope=col>&lt;chr&gt;</th><th scope=col>&lt;chr&gt;</th><th scope=col>&lt;chr&gt;</th><th scope=col>&lt;chr&gt;</th><th scope=col>&lt;chr&gt;</th></tr>\n",
       "</thead>\n",
       "<tbody>\n",
       "\t<tr><th scope=row>2</th><td>1971</td><td>200 Motels</td><td>American</td><td>Tony Palmer, Charles Swenson</td><td>Frank Zappa,Ringo Starr,Theodore Bikel</td><td>unknown</td><td>https://en.wikipedia.org/wiki/200_Motels</td><td>In 200 Motels, the film attempts to portray the craziness of life on the road as a rock musician, and as such consists of a series of unconnected nonsense vignettes interspersed with concert footage of the Mothers of Invention.[3] Ostensibly, while on tour The Mothers of Invention go crazy in the small fictional town of Centerville (\"a real nice place to raise your kids up\"), wander around, and get beaten up in \"Redneck Eats\", a cowboy bar. In a cartoon interlude passed off as a \"dental hygiene movie,\" bassist \"Jeff\", tired of playing what he refers to as \"Zappa's comedy music\", is persuaded by his bad conscience to quit the group, as did his real-life counterpart Jeff Simmons, who was fired for insubordination before the film began shooting. Simmons was replaced by Martin Lickert (who was Ringo's chauffeur) for the film.[2] Almost every scene is drenched with video special effects (double and triple exposures, solarisation, false color, speed changes, etc.) which were innovative in 1971. The film has been dubbed a \"surrealistic documentary\".[4][5]</td><td>98</td><td>$679,000</td><td>Under $1 million</td></tr>\n",
       "</tbody>\n",
       "</table>\n"
      ],
      "text/latex": [
       "A data.frame: 1 × 11\n",
       "\\begin{tabular}{r|lllllllllll}\n",
       "  & Release Year & Title & Origin/Ethnicity & Director & Cast & Genre & Wiki Page & Plot & Running time & Budget & Box office\\\\\n",
       "  & <int> & <chr> & <chr> & <chr> & <chr> & <chr> & <chr> & <chr> & <chr> & <chr> & <chr>\\\\\n",
       "\\hline\n",
       "\t2 & 1971 & 200 Motels & American & Tony Palmer, Charles Swenson & Frank Zappa,Ringo Starr,Theodore Bikel & unknown & https://en.wikipedia.org/wiki/200\\_Motels & In 200 Motels, the film attempts to portray the craziness of life on the road as a rock musician, and as such consists of a series of unconnected nonsense vignettes interspersed with concert footage of the Mothers of Invention.{[}3{]} Ostensibly, while on tour The Mothers of Invention go crazy in the small fictional town of Centerville (\"a real nice place to raise your kids up\"), wander around, and get beaten up in \"Redneck Eats\", a cowboy bar. In a cartoon interlude passed off as a \"dental hygiene movie,\" bassist \"Jeff\", tired of playing what he refers to as \"Zappa's comedy music\", is persuaded by his bad conscience to quit the group, as did his real-life counterpart Jeff Simmons, who was fired for insubordination before the film began shooting. Simmons was replaced by Martin Lickert (who was Ringo's chauffeur) for the film.{[}2{]} Almost every scene is drenched with video special effects (double and triple exposures, solarisation, false color, speed changes, etc.) which were innovative in 1971. The film has been dubbed a \"surrealistic documentary\".{[}4{]}{[}5{]} & 98 & \\$679,000 & Under \\$1 million\\\\\n",
       "\\end{tabular}\n"
      ],
      "text/markdown": [
       "\n",
       "A data.frame: 1 × 11\n",
       "\n",
       "| <!--/--> | Release Year &lt;int&gt; | Title &lt;chr&gt; | Origin/Ethnicity &lt;chr&gt; | Director &lt;chr&gt; | Cast &lt;chr&gt; | Genre &lt;chr&gt; | Wiki Page &lt;chr&gt; | Plot &lt;chr&gt; | Running time &lt;chr&gt; | Budget &lt;chr&gt; | Box office &lt;chr&gt; |\n",
       "|---|---|---|---|---|---|---|---|---|---|---|---|\n",
       "| 2 | 1971 | 200 Motels | American | Tony Palmer, Charles Swenson | Frank Zappa,Ringo Starr,Theodore Bikel | unknown | https://en.wikipedia.org/wiki/200_Motels | In 200 Motels, the film attempts to portray the craziness of life on the road as a rock musician, and as such consists of a series of unconnected nonsense vignettes interspersed with concert footage of the Mothers of Invention.[3] Ostensibly, while on tour The Mothers of Invention go crazy in the small fictional town of Centerville (\"a real nice place to raise your kids up\"), wander around, and get beaten up in \"Redneck Eats\", a cowboy bar. In a cartoon interlude passed off as a \"dental hygiene movie,\" bassist \"Jeff\", tired of playing what he refers to as \"Zappa's comedy music\", is persuaded by his bad conscience to quit the group, as did his real-life counterpart Jeff Simmons, who was fired for insubordination before the film began shooting. Simmons was replaced by Martin Lickert (who was Ringo's chauffeur) for the film.[2] Almost every scene is drenched with video special effects (double and triple exposures, solarisation, false color, speed changes, etc.) which were innovative in 1971. The film has been dubbed a \"surrealistic documentary\".[4][5] | 98 | $679,000 | Under $1 million |\n",
       "\n"
      ],
      "text/plain": [
       "  Release Year Title      Origin/Ethnicity Director                    \n",
       "2 1971         200 Motels American         Tony Palmer, Charles Swenson\n",
       "  Cast                                   Genre  \n",
       "2 Frank Zappa,Ringo Starr,Theodore Bikel unknown\n",
       "  Wiki Page                               \n",
       "2 https://en.wikipedia.org/wiki/200_Motels\n",
       "  Plot                                                                                                                                                                                                                                                                                                                                                                                                                                                                                                                                                                                                                                                                                                                                                                                                                                                                                                                                                                                                                                                                                                    \n",
       "2 In 200 Motels, the film attempts to portray the craziness of life on the road as a rock musician, and as such consists of a series of unconnected nonsense vignettes interspersed with concert footage of the Mothers of Invention.[3] Ostensibly, while on tour The Mothers of Invention go crazy in the small fictional town of Centerville (\"a real nice place to raise your kids up\"), wander around, and get beaten up in \"Redneck Eats\", a cowboy bar. In a cartoon interlude passed off as a \"dental hygiene movie,\" bassist \"Jeff\", tired of playing what he refers to as \"Zappa's comedy music\", is persuaded by his bad conscience to quit the group, as did his real-life counterpart Jeff Simmons, who was fired for insubordination before the film began shooting. Simmons was replaced by Martin Lickert (who was Ringo's chauffeur) for the film.[2] Almost every scene is drenched with video special effects (double and triple exposures, solarisation, false color, speed changes, etc.) which were innovative in 1971. The film has been dubbed a \"surrealistic documentary\".[4][5]\n",
       "  Running time Budget   Box office      \n",
       "2 98           $679,000 Under $1 million"
      ]
     },
     "metadata": {},
     "output_type": "display_data"
    }
   ],
   "source": [
    "load(file = \"movies_reduced.RData\")\n",
    "dim(movies_reduced)\n",
    "colnames(movies_reduced)\n",
    "movies_reduced[1,]"
   ]
  },
  {
   "cell_type": "markdown",
   "metadata": {},
   "source": [
    "## Get in touch with the data"
   ]
  },
  {
   "cell_type": "code",
   "execution_count": 2,
   "metadata": {},
   "outputs": [
    {
     "data": {
      "image/png": "[encoded data removed]",
      "text/plain": [
       "Plot with title “Histogram of movies_reduced$`Release Year`”"
      ]
     },
     "metadata": {},
     "output_type": "display_data"
    }
   ],
   "source": [
    "hist(movies_reduced$`Release Year`,breaks = 20)"
   ]
  },
  {
   "cell_type": "code",
   "execution_count": 3,
   "metadata": {},
   "outputs": [
    {
     "data": {
      "image/png": "[encoded data removed]",
      "text/plain": [
       "Plot with title “Histogram of as.numeric(movies_reduced$`Running time`)”"
      ]
     },
     "metadata": {},
     "output_type": "display_data"
    }
   ],
   "source": [
    "hist(as.numeric(movies_reduced$`Running time`),breaks=20)"
   ]
  },
  {
   "cell_type": "markdown",
   "metadata": {},
   "source": [
    "### Which actor appeared the most?"
   ]
  },
  {
   "cell_type": "code",
   "execution_count": 4,
   "metadata": {},
   "outputs": [
    {
     "data": {
      "text/html": [
       "<table>\n",
       "<caption>A data.frame: 6 × 2</caption>\n",
       "<thead>\n",
       "\t<tr><th></th><th scope=col>actors</th><th scope=col>Freq</th></tr>\n",
       "\t<tr><th></th><th scope=col>&lt;fct&gt;</th><th scope=col>&lt;int&gt;</th></tr>\n",
       "</thead>\n",
       "<tbody>\n",
       "\t<tr><th scope=row>1</th><td>Robert De Niro   </td><td>58</td></tr>\n",
       "\t<tr><th scope=row>2</th><td>Bruce Willis     </td><td>52</td></tr>\n",
       "\t<tr><th scope=row>3</th><td>Nicolas Cage     </td><td>52</td></tr>\n",
       "\t<tr><th scope=row>4</th><td>Samuel L. Jackson</td><td>51</td></tr>\n",
       "\t<tr><th scope=row>5</th><td>Morgan Freeman   </td><td>48</td></tr>\n",
       "\t<tr><th scope=row>6</th><td>Meryl Streep     </td><td>44</td></tr>\n",
       "</tbody>\n",
       "</table>\n"
      ],
      "text/latex": [
       "A data.frame: 6 × 2\n",
       "\\begin{tabular}{r|ll}\n",
       "  & actors & Freq\\\\\n",
       "  & <fct> & <int>\\\\\n",
       "\\hline\n",
       "\t1 & Robert De Niro    & 58\\\\\n",
       "\t2 & Bruce Willis      & 52\\\\\n",
       "\t3 & Nicolas Cage      & 52\\\\\n",
       "\t4 & Samuel L. Jackson & 51\\\\\n",
       "\t5 & Morgan Freeman    & 48\\\\\n",
       "\t6 & Meryl Streep      & 44\\\\\n",
       "\\end{tabular}\n"
      ],
      "text/markdown": [
       "\n",
       "A data.frame: 6 × 2\n",
       "\n",
       "| <!--/--> | actors &lt;fct&gt; | Freq &lt;int&gt; |\n",
       "|---|---|---|\n",
       "| 1 | Robert De Niro    | 58 |\n",
       "| 2 | Bruce Willis      | 52 |\n",
       "| 3 | Nicolas Cage      | 52 |\n",
       "| 4 | Samuel L. Jackson | 51 |\n",
       "| 5 | Morgan Freeman    | 48 |\n",
       "| 6 | Meryl Streep      | 44 |\n",
       "\n"
      ],
      "text/plain": [
       "  actors            Freq\n",
       "1 Robert De Niro    58  \n",
       "2 Bruce Willis      52  \n",
       "3 Nicolas Cage      52  \n",
       "4 Samuel L. Jackson 51  \n",
       "5 Morgan Freeman    48  \n",
       "6 Meryl Streep      44  "
      ]
     },
     "metadata": {},
     "output_type": "display_data"
    }
   ],
   "source": [
    "actors<-movies_reduced$Cast\n",
    "actors<-stringr::str_split(string = actors,pattern = \",\",simplify = F)\n",
    "actors<-do.call(c,actors)\n",
    "actors<-actors[-union(which(is.na(actors)),which(actors==\"\"))]\n",
    "actors_table<-data.frame(sort(table(actors),decreasing = T),stringsAsFactors = F)\n",
    "head(actors_table)"
   ]
  },
  {
   "cell_type": "markdown",
   "metadata": {},
   "source": [
    "### Network of Actors"
   ]
  },
  {
   "cell_type": "code",
   "execution_count": null,
   "metadata": {},
   "outputs": [
    {
     "data": {
      "text/html": [
       "'/home/jovyan'"
      ],
      "text/latex": [
       "'/home/jovyan'"
      ],
      "text/markdown": [
       "'/home/jovyan'"
      ],
      "text/plain": [
       "[1] \"/home/jovyan\""
      ]
     },
     "metadata": {},
     "output_type": "display_data"
    },
    {
     "name": "stderr",
     "output_type": "stream",
     "text": [
      "\n",
      "Listening on http://0.0.0.0:4375\n"
     ]
    }
   ],
   "source": [
    "getwd()\n",
    "runApp(host = \"0.0.0.0\",appDir = \"iLCM/\")"
   ]
  },
  {
   "cell_type": "code",
   "execution_count": null,
   "metadata": {},
   "outputs": [],
   "source": [
    "runApp(host = \"0.0.0.0\")\n",
    "shiny::runApp(\"iLCM/\")"
   ]
  },
  {
   "cell_type": "markdown",
   "metadata": {},
   "source": [
    "1+1"
   ]
  }
 ],
 "metadata": {
  "kernelspec": {
   "display_name": "R",
   "language": "R",
   "name": "ir"
  },
  "language_info": {
   "codemirror_mode": "r",
   "file_extension": ".r",
   "mimetype": "text/x-r-source",
   "name": "R",
   "pygments_lexer": "r",
   "version": "3.6.1"
  }
 },
 "nbformat": 4,
 "nbformat_minor": 4
}
